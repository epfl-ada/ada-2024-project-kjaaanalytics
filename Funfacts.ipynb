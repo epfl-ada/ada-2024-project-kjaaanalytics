{
 "cells": [
  {
   "cell_type": "code",
   "execution_count": 27,
   "metadata": {},
   "outputs": [
    {
     "ename": "ImportError",
     "evalue": "cannot import name 'df_funfact_4_brewery' from 'src.utils.funfacts_utils' (/Users/kenzarhachi/Master/MA3/ADA/Project/ada-2024-project-kjaaanalytics/src/utils/funfacts_utils.py)",
     "output_type": "error",
     "traceback": [
      "\u001b[0;31m---------------------------------------------------------------------------\u001b[0m",
      "\u001b[0;31mImportError\u001b[0m                               Traceback (most recent call last)",
      "Cell \u001b[0;32mIn[27], line 3\u001b[0m\n\u001b[1;32m      1\u001b[0m \u001b[38;5;66;03m# imports\u001b[39;00m\n\u001b[1;32m      2\u001b[0m \u001b[38;5;28;01mimport\u001b[39;00m \u001b[38;5;21;01mpandas\u001b[39;00m \u001b[38;5;28;01mas\u001b[39;00m \u001b[38;5;21;01mpd\u001b[39;00m\n\u001b[0;32m----> 3\u001b[0m \u001b[38;5;28;01mfrom\u001b[39;00m \u001b[38;5;21;01msrc\u001b[39;00m\u001b[38;5;21;01m.\u001b[39;00m\u001b[38;5;21;01mutils\u001b[39;00m\u001b[38;5;21;01m.\u001b[39;00m\u001b[38;5;21;01mfunfacts_utils\u001b[39;00m \u001b[38;5;28;01mimport\u001b[39;00m df_funfact_1, plot_funfact_1, df_funfact_2, plot_funfact_2, df_funfact_3, plot_funfact_3, df_funfact_4, df_funfact_4_brewery, plot_funfact_4_brewery, save_plot_as_html, save_plot_as_svg\n",
      "\u001b[0;31mImportError\u001b[0m: cannot import name 'df_funfact_4_brewery' from 'src.utils.funfacts_utils' (/Users/kenzarhachi/Master/MA3/ADA/Project/ada-2024-project-kjaaanalytics/src/utils/funfacts_utils.py)"
     ]
    }
   ],
   "source": [
    "# imports\n",
    "import pandas as pd\n",
    "from src.utils.funfacts_utils import df_funfact_1, plot_funfact_1, df_funfact_2, plot_funfact_2, df_funfact_3, plot_funfact_3, df_funfact_4, df_funfact_4_brewery, plot_funfact_4_brewery, save_plot_as_html, save_plot_as_svg\n"
   ]
  },
  {
   "cell_type": "code",
   "execution_count": 18,
   "metadata": {},
   "outputs": [],
   "source": [
    "#Reading the breweries.csv file as a dataframe\n",
    "beers_df = pd.read_csv('../cleaned_ratings.csv', low_memory=False, index_col=0)"
   ]
  },
  {
   "cell_type": "code",
   "execution_count": 19,
   "metadata": {},
   "outputs": [],
   "source": [
    "#Making a copy to keep the original dataframe unmodified\n",
    "beers_df_copy = beers_df.copy()\n",
    "#Remove 'style_category' other and other_Ales\n",
    "beers_df_copy= beers_df_copy[~beers_df_copy['style_category'].isin(['Other'])]"
   ]
  },
  {
   "cell_type": "markdown",
   "metadata": {},
   "source": [
    "## Fun fact #1 - Bob travels from Switzerland to UK (using rating score column)"
   ]
  },
  {
   "cell_type": "code",
   "execution_count": 20,
   "metadata": {},
   "outputs": [
    {
     "name": "stdout",
     "output_type": "stream",
     "text": [
      "Common Beer Styles:\n",
      "{'Wheat Beer', 'Strong Ale', 'Saison & Farmhouse', 'Lager', 'Pilsner', 'Porter', 'Dark Lager', 'Stout', 'India Pale Ale (IPA)', 'Specialty & Seasonal', 'Hybrid Styles', 'Other Ales', 'Pale Ale', 'Low Alcohol', 'Belgian Ale', 'Strong Lager', 'Sour Ale'}\n",
      "17\n"
     ]
    }
   ],
   "source": [
    "# Filtering rows where country_brewery is 'Switzerland' and 'England'\n",
    "filtered_df_swit = beers_df_copy.loc[beers_df_copy['country_user'] == 'Switzerland', 'style_category'].unique()\n",
    "filtered_df_uk = beers_df_copy.loc[beers_df_copy['country_user'] == 'England', 'style_category'].unique()\n",
    "\n",
    "# Finding the intersection of styles\n",
    "common_styles = set(filtered_df_swit) & set(filtered_df_uk)\n",
    "\n",
    "# Displaying the common beer styles and there number\n",
    "print(\"Common Beer Styles:\")\n",
    "print(common_styles)\n",
    "print(len(common_styles))\n"
   ]
  },
  {
   "cell_type": "code",
   "execution_count": 21,
   "metadata": {},
   "outputs": [
    {
     "data": {
      "application/vnd.plotly.v1+json": {
       "config": {
        "plotlyServerURL": "https://plot.ly"
       },
       "data": [
        {
         "alignmentgroup": "True",
         "hovertemplate": "country_user=Switzerland<br>Beer Style=%{x}<br>Average Rating Score=%{y}<extra></extra>",
         "legendgroup": "Switzerland",
         "marker": {
          "color": "rgb(102, 197, 204)",
          "pattern": {
           "shape": ""
          }
         },
         "name": "Switzerland",
         "offsetgroup": "Switzerland",
         "orientation": "v",
         "showlegend": true,
         "textposition": "auto",
         "type": "bar",
         "x": [
          "Stout",
          "Porter",
          "Sour Ale",
          "India Pale Ale (IPA)",
          "Belgian Ale",
          "Other Ales",
          "Saison & Farmhouse",
          "Strong Ale",
          "Hybrid Styles",
          "Pale Ale",
          "Strong Lager",
          "Wheat Beer",
          "Dark Lager",
          "Specialty & Seasonal",
          "Pilsner",
          "Lager",
          "Low Alcohol"
         ],
         "xaxis": "x",
         "y": [
          3.8328662420382167,
          3.7395744680851064,
          3.7351315789473687,
          3.632645259938838,
          3.5689775561097257,
          3.509259259259259,
          3.4796256684491977,
          3.4303787878787877,
          3.4270466321243522,
          3.3302729528535977,
          3.3273275862068967,
          3.2228125,
          3.163978494623656,
          3.1078260869565217,
          2.9332624113475174,
          2.7586784140969165,
          2.3
         ],
         "yaxis": "y"
        },
        {
         "alignmentgroup": "True",
         "hovertemplate": "country_user=England<br>Beer Style=%{x}<br>Average Rating Score=%{y}<extra></extra>",
         "legendgroup": "England",
         "marker": {
          "color": "rgb(246, 207, 113)",
          "pattern": {
           "shape": ""
          }
         },
         "name": "England",
         "offsetgroup": "England",
         "orientation": "v",
         "showlegend": true,
         "textposition": "auto",
         "type": "bar",
         "x": [
          "Stout",
          "Porter",
          "India Pale Ale (IPA)",
          "Sour Ale",
          "Belgian Ale",
          "Saison & Farmhouse",
          "Hybrid Styles",
          "Strong Ale",
          "Strong Lager",
          "Wheat Beer",
          "Pale Ale",
          "Other Ales",
          "Specialty & Seasonal",
          "Dark Lager",
          "Pilsner",
          "Low Alcohol",
          "Lager"
         ],
         "xaxis": "x",
         "y": [
          3.780488965815664,
          3.6886053882725833,
          3.6639800613496933,
          3.6440013540961407,
          3.5652408609497774,
          3.5027675438596493,
          3.47211079943899,
          3.4306197737333988,
          3.3731172839506174,
          3.2873945783132528,
          3.286912115786332,
          3.271251700680272,
          3.2502338129496406,
          3.2267137809187276,
          2.9587215909090907,
          2.8456880733944954,
          2.799203431372549
         ],
         "yaxis": "y"
        }
       ],
       "layout": {
        "barmode": "group",
        "legend": {
         "title": {
          "text": "Country"
         },
         "tracegroupgap": 0
        },
        "margin": {
         "b": 100,
         "l": 50,
         "r": 50,
         "t": 50
        },
        "template": {
         "data": {
          "bar": [
           {
            "error_x": {
             "color": "#2a3f5f"
            },
            "error_y": {
             "color": "#2a3f5f"
            },
            "marker": {
             "line": {
              "color": "white",
              "width": 0.5
             },
             "pattern": {
              "fillmode": "overlay",
              "size": 10,
              "solidity": 0.2
             }
            },
            "type": "bar"
           }
          ],
          "barpolar": [
           {
            "marker": {
             "line": {
              "color": "white",
              "width": 0.5
             },
             "pattern": {
              "fillmode": "overlay",
              "size": 10,
              "solidity": 0.2
             }
            },
            "type": "barpolar"
           }
          ],
          "carpet": [
           {
            "aaxis": {
             "endlinecolor": "#2a3f5f",
             "gridcolor": "#C8D4E3",
             "linecolor": "#C8D4E3",
             "minorgridcolor": "#C8D4E3",
             "startlinecolor": "#2a3f5f"
            },
            "baxis": {
             "endlinecolor": "#2a3f5f",
             "gridcolor": "#C8D4E3",
             "linecolor": "#C8D4E3",
             "minorgridcolor": "#C8D4E3",
             "startlinecolor": "#2a3f5f"
            },
            "type": "carpet"
           }
          ],
          "choropleth": [
           {
            "colorbar": {
             "outlinewidth": 0,
             "ticks": ""
            },
            "type": "choropleth"
           }
          ],
          "contour": [
           {
            "colorbar": {
             "outlinewidth": 0,
             "ticks": ""
            },
            "colorscale": [
             [
              0,
              "#0d0887"
             ],
             [
              0.1111111111111111,
              "#46039f"
             ],
             [
              0.2222222222222222,
              "#7201a8"
             ],
             [
              0.3333333333333333,
              "#9c179e"
             ],
             [
              0.4444444444444444,
              "#bd3786"
             ],
             [
              0.5555555555555556,
              "#d8576b"
             ],
             [
              0.6666666666666666,
              "#ed7953"
             ],
             [
              0.7777777777777778,
              "#fb9f3a"
             ],
             [
              0.8888888888888888,
              "#fdca26"
             ],
             [
              1,
              "#f0f921"
             ]
            ],
            "type": "contour"
           }
          ],
          "contourcarpet": [
           {
            "colorbar": {
             "outlinewidth": 0,
             "ticks": ""
            },
            "type": "contourcarpet"
           }
          ],
          "heatmap": [
           {
            "colorbar": {
             "outlinewidth": 0,
             "ticks": ""
            },
            "colorscale": [
             [
              0,
              "#0d0887"
             ],
             [
              0.1111111111111111,
              "#46039f"
             ],
             [
              0.2222222222222222,
              "#7201a8"
             ],
             [
              0.3333333333333333,
              "#9c179e"
             ],
             [
              0.4444444444444444,
              "#bd3786"
             ],
             [
              0.5555555555555556,
              "#d8576b"
             ],
             [
              0.6666666666666666,
              "#ed7953"
             ],
             [
              0.7777777777777778,
              "#fb9f3a"
             ],
             [
              0.8888888888888888,
              "#fdca26"
             ],
             [
              1,
              "#f0f921"
             ]
            ],
            "type": "heatmap"
           }
          ],
          "heatmapgl": [
           {
            "colorbar": {
             "outlinewidth": 0,
             "ticks": ""
            },
            "colorscale": [
             [
              0,
              "#0d0887"
             ],
             [
              0.1111111111111111,
              "#46039f"
             ],
             [
              0.2222222222222222,
              "#7201a8"
             ],
             [
              0.3333333333333333,
              "#9c179e"
             ],
             [
              0.4444444444444444,
              "#bd3786"
             ],
             [
              0.5555555555555556,
              "#d8576b"
             ],
             [
              0.6666666666666666,
              "#ed7953"
             ],
             [
              0.7777777777777778,
              "#fb9f3a"
             ],
             [
              0.8888888888888888,
              "#fdca26"
             ],
             [
              1,
              "#f0f921"
             ]
            ],
            "type": "heatmapgl"
           }
          ],
          "histogram": [
           {
            "marker": {
             "pattern": {
              "fillmode": "overlay",
              "size": 10,
              "solidity": 0.2
             }
            },
            "type": "histogram"
           }
          ],
          "histogram2d": [
           {
            "colorbar": {
             "outlinewidth": 0,
             "ticks": ""
            },
            "colorscale": [
             [
              0,
              "#0d0887"
             ],
             [
              0.1111111111111111,
              "#46039f"
             ],
             [
              0.2222222222222222,
              "#7201a8"
             ],
             [
              0.3333333333333333,
              "#9c179e"
             ],
             [
              0.4444444444444444,
              "#bd3786"
             ],
             [
              0.5555555555555556,
              "#d8576b"
             ],
             [
              0.6666666666666666,
              "#ed7953"
             ],
             [
              0.7777777777777778,
              "#fb9f3a"
             ],
             [
              0.8888888888888888,
              "#fdca26"
             ],
             [
              1,
              "#f0f921"
             ]
            ],
            "type": "histogram2d"
           }
          ],
          "histogram2dcontour": [
           {
            "colorbar": {
             "outlinewidth": 0,
             "ticks": ""
            },
            "colorscale": [
             [
              0,
              "#0d0887"
             ],
             [
              0.1111111111111111,
              "#46039f"
             ],
             [
              0.2222222222222222,
              "#7201a8"
             ],
             [
              0.3333333333333333,
              "#9c179e"
             ],
             [
              0.4444444444444444,
              "#bd3786"
             ],
             [
              0.5555555555555556,
              "#d8576b"
             ],
             [
              0.6666666666666666,
              "#ed7953"
             ],
             [
              0.7777777777777778,
              "#fb9f3a"
             ],
             [
              0.8888888888888888,
              "#fdca26"
             ],
             [
              1,
              "#f0f921"
             ]
            ],
            "type": "histogram2dcontour"
           }
          ],
          "mesh3d": [
           {
            "colorbar": {
             "outlinewidth": 0,
             "ticks": ""
            },
            "type": "mesh3d"
           }
          ],
          "parcoords": [
           {
            "line": {
             "colorbar": {
              "outlinewidth": 0,
              "ticks": ""
             }
            },
            "type": "parcoords"
           }
          ],
          "pie": [
           {
            "automargin": true,
            "type": "pie"
           }
          ],
          "scatter": [
           {
            "fillpattern": {
             "fillmode": "overlay",
             "size": 10,
             "solidity": 0.2
            },
            "type": "scatter"
           }
          ],
          "scatter3d": [
           {
            "line": {
             "colorbar": {
              "outlinewidth": 0,
              "ticks": ""
             }
            },
            "marker": {
             "colorbar": {
              "outlinewidth": 0,
              "ticks": ""
             }
            },
            "type": "scatter3d"
           }
          ],
          "scattercarpet": [
           {
            "marker": {
             "colorbar": {
              "outlinewidth": 0,
              "ticks": ""
             }
            },
            "type": "scattercarpet"
           }
          ],
          "scattergeo": [
           {
            "marker": {
             "colorbar": {
              "outlinewidth": 0,
              "ticks": ""
             }
            },
            "type": "scattergeo"
           }
          ],
          "scattergl": [
           {
            "marker": {
             "colorbar": {
              "outlinewidth": 0,
              "ticks": ""
             }
            },
            "type": "scattergl"
           }
          ],
          "scattermapbox": [
           {
            "marker": {
             "colorbar": {
              "outlinewidth": 0,
              "ticks": ""
             }
            },
            "type": "scattermapbox"
           }
          ],
          "scatterpolar": [
           {
            "marker": {
             "colorbar": {
              "outlinewidth": 0,
              "ticks": ""
             }
            },
            "type": "scatterpolar"
           }
          ],
          "scatterpolargl": [
           {
            "marker": {
             "colorbar": {
              "outlinewidth": 0,
              "ticks": ""
             }
            },
            "type": "scatterpolargl"
           }
          ],
          "scatterternary": [
           {
            "marker": {
             "colorbar": {
              "outlinewidth": 0,
              "ticks": ""
             }
            },
            "type": "scatterternary"
           }
          ],
          "surface": [
           {
            "colorbar": {
             "outlinewidth": 0,
             "ticks": ""
            },
            "colorscale": [
             [
              0,
              "#0d0887"
             ],
             [
              0.1111111111111111,
              "#46039f"
             ],
             [
              0.2222222222222222,
              "#7201a8"
             ],
             [
              0.3333333333333333,
              "#9c179e"
             ],
             [
              0.4444444444444444,
              "#bd3786"
             ],
             [
              0.5555555555555556,
              "#d8576b"
             ],
             [
              0.6666666666666666,
              "#ed7953"
             ],
             [
              0.7777777777777778,
              "#fb9f3a"
             ],
             [
              0.8888888888888888,
              "#fdca26"
             ],
             [
              1,
              "#f0f921"
             ]
            ],
            "type": "surface"
           }
          ],
          "table": [
           {
            "cells": {
             "fill": {
              "color": "#EBF0F8"
             },
             "line": {
              "color": "white"
             }
            },
            "header": {
             "fill": {
              "color": "#C8D4E3"
             },
             "line": {
              "color": "white"
             }
            },
            "type": "table"
           }
          ]
         },
         "layout": {
          "annotationdefaults": {
           "arrowcolor": "#2a3f5f",
           "arrowhead": 0,
           "arrowwidth": 1
          },
          "autotypenumbers": "strict",
          "coloraxis": {
           "colorbar": {
            "outlinewidth": 0,
            "ticks": ""
           }
          },
          "colorscale": {
           "diverging": [
            [
             0,
             "#8e0152"
            ],
            [
             0.1,
             "#c51b7d"
            ],
            [
             0.2,
             "#de77ae"
            ],
            [
             0.3,
             "#f1b6da"
            ],
            [
             0.4,
             "#fde0ef"
            ],
            [
             0.5,
             "#f7f7f7"
            ],
            [
             0.6,
             "#e6f5d0"
            ],
            [
             0.7,
             "#b8e186"
            ],
            [
             0.8,
             "#7fbc41"
            ],
            [
             0.9,
             "#4d9221"
            ],
            [
             1,
             "#276419"
            ]
           ],
           "sequential": [
            [
             0,
             "#0d0887"
            ],
            [
             0.1111111111111111,
             "#46039f"
            ],
            [
             0.2222222222222222,
             "#7201a8"
            ],
            [
             0.3333333333333333,
             "#9c179e"
            ],
            [
             0.4444444444444444,
             "#bd3786"
            ],
            [
             0.5555555555555556,
             "#d8576b"
            ],
            [
             0.6666666666666666,
             "#ed7953"
            ],
            [
             0.7777777777777778,
             "#fb9f3a"
            ],
            [
             0.8888888888888888,
             "#fdca26"
            ],
            [
             1,
             "#f0f921"
            ]
           ],
           "sequentialminus": [
            [
             0,
             "#0d0887"
            ],
            [
             0.1111111111111111,
             "#46039f"
            ],
            [
             0.2222222222222222,
             "#7201a8"
            ],
            [
             0.3333333333333333,
             "#9c179e"
            ],
            [
             0.4444444444444444,
             "#bd3786"
            ],
            [
             0.5555555555555556,
             "#d8576b"
            ],
            [
             0.6666666666666666,
             "#ed7953"
            ],
            [
             0.7777777777777778,
             "#fb9f3a"
            ],
            [
             0.8888888888888888,
             "#fdca26"
            ],
            [
             1,
             "#f0f921"
            ]
           ]
          },
          "colorway": [
           "#636efa",
           "#EF553B",
           "#00cc96",
           "#ab63fa",
           "#FFA15A",
           "#19d3f3",
           "#FF6692",
           "#B6E880",
           "#FF97FF",
           "#FECB52"
          ],
          "font": {
           "color": "#2a3f5f"
          },
          "geo": {
           "bgcolor": "white",
           "lakecolor": "white",
           "landcolor": "white",
           "showlakes": true,
           "showland": true,
           "subunitcolor": "#C8D4E3"
          },
          "hoverlabel": {
           "align": "left"
          },
          "hovermode": "closest",
          "mapbox": {
           "style": "light"
          },
          "paper_bgcolor": "white",
          "plot_bgcolor": "white",
          "polar": {
           "angularaxis": {
            "gridcolor": "#EBF0F8",
            "linecolor": "#EBF0F8",
            "ticks": ""
           },
           "bgcolor": "white",
           "radialaxis": {
            "gridcolor": "#EBF0F8",
            "linecolor": "#EBF0F8",
            "ticks": ""
           }
          },
          "scene": {
           "xaxis": {
            "backgroundcolor": "white",
            "gridcolor": "#DFE8F3",
            "gridwidth": 2,
            "linecolor": "#EBF0F8",
            "showbackground": true,
            "ticks": "",
            "zerolinecolor": "#EBF0F8"
           },
           "yaxis": {
            "backgroundcolor": "white",
            "gridcolor": "#DFE8F3",
            "gridwidth": 2,
            "linecolor": "#EBF0F8",
            "showbackground": true,
            "ticks": "",
            "zerolinecolor": "#EBF0F8"
           },
           "zaxis": {
            "backgroundcolor": "white",
            "gridcolor": "#DFE8F3",
            "gridwidth": 2,
            "linecolor": "#EBF0F8",
            "showbackground": true,
            "ticks": "",
            "zerolinecolor": "#EBF0F8"
           }
          },
          "shapedefaults": {
           "line": {
            "color": "#2a3f5f"
           }
          },
          "ternary": {
           "aaxis": {
            "gridcolor": "#DFE8F3",
            "linecolor": "#A2B1C6",
            "ticks": ""
           },
           "baxis": {
            "gridcolor": "#DFE8F3",
            "linecolor": "#A2B1C6",
            "ticks": ""
           },
           "bgcolor": "white",
           "caxis": {
            "gridcolor": "#DFE8F3",
            "linecolor": "#A2B1C6",
            "ticks": ""
           }
          },
          "title": {
           "x": 0.05
          },
          "xaxis": {
           "automargin": true,
           "gridcolor": "#EBF0F8",
           "linecolor": "#EBF0F8",
           "ticks": "",
           "title": {
            "standoff": 15
           },
           "zerolinecolor": "#EBF0F8",
           "zerolinewidth": 2
          },
          "yaxis": {
           "automargin": true,
           "gridcolor": "#EBF0F8",
           "linecolor": "#EBF0F8",
           "ticks": "",
           "title": {
            "standoff": 15
           },
           "zerolinecolor": "#EBF0F8",
           "zerolinewidth": 2
          }
         }
        },
        "title": {
         "font": {
          "size": 20
         },
         "text": "Comparison of the 17 Beer Styles by Average Rating Score in Switzerland vs England",
         "x": 0.5,
         "xanchor": "center",
         "yanchor": "top"
        },
        "xaxis": {
         "anchor": "y",
         "categoryarray": [
          "Low Alcohol",
          "Other Ales",
          "Specialty & Seasonal",
          "Sour Ale",
          "Wheat Beer",
          "Dark Lager",
          "Stout",
          "Porter",
          "Strong Lager",
          "Hybrid Styles",
          "Pale Ale",
          "Lager",
          "India Pale Ale (IPA)",
          "Pilsner",
          "Saison & Farmhouse",
          "Belgian Ale",
          "Strong Ale"
         ],
         "categoryorder": "array",
         "domain": [
          0,
          1
         ],
         "tickangle": -45,
         "title": {
          "text": "Beer Style"
         }
        },
        "yaxis": {
         "anchor": "x",
         "domain": [
          0,
          1
         ],
         "title": {
          "text": "Average Rating Score"
         }
        }
       }
      }
     },
     "metadata": {},
     "output_type": "display_data"
    }
   ],
   "source": [
    "merged_rating_funfact_1_df, pivot_rating_sorted_funfact_1_df = df_funfact_1(beers_df_copy)  \n",
    "fig_funfact1 = plot_funfact_1(len(common_styles), pivot_rating_sorted_funfact_1_df, merged_rating_funfact_1_df)\n",
    "\n",
    "# Displaying the plot\n",
    "fig_funfact1.show()\n",
    "\n",
    "# Saving the plot as html and svg formats\n",
    "save_plot_as_html(fig_funfact1, './website/_layouts/fig_funfact1.html')\n",
    "save_plot_as_svg(fig_funfact1, './website/assets/figures/fig_funfact1.svg')\n",
    "\n"
   ]
  },
  {
   "cell_type": "markdown",
   "metadata": {},
   "source": [
    "## Comment:\n",
    "- The beer styles that seems to have a big difference between both countries are: ......"
   ]
  },
  {
   "cell_type": "markdown",
   "metadata": {},
   "source": [
    "## Fun fact #2 - Bob travels from UK to Belgium"
   ]
  },
  {
   "cell_type": "code",
   "execution_count": 22,
   "metadata": {},
   "outputs": [
    {
     "data": {
      "application/vnd.plotly.v1+json": {
       "config": {
        "plotlyServerURL": "https://plot.ly"
       },
       "data": [
        {
         "hovertemplate": "Beer Name=Delirium Nocturnum<br>Year=%{x}<br>Average Rating=%{y}<extra></extra>",
         "legendgroup": "Delirium Nocturnum",
         "line": {
          "color": "#636efa",
          "dash": "solid"
         },
         "marker": {
          "symbol": "circle"
         },
         "mode": "lines+markers",
         "name": "Delirium Nocturnum",
         "orientation": "v",
         "showlegend": true,
         "type": "scatter",
         "x": [
          2001,
          2002,
          2003,
          2004,
          2005,
          2006,
          2007,
          2008,
          2009,
          2010,
          2011,
          2012,
          2013,
          2014,
          2015,
          2016,
          2017
         ],
         "xaxis": "x",
         "y": [
          4.2,
          3.3200000000000003,
          3.6,
          3.4000000000000004,
          3.8333333333333335,
          3.3375,
          3.5825,
          3.855,
          3.52,
          3.5980000000000003,
          3.6454545454545455,
          3.838125,
          3.6405555555555558,
          3.645769230769231,
          3.7428571428571424,
          3.6923076923076925,
          3.688888888888889
         ],
         "yaxis": "y"
        },
        {
         "hovertemplate": "Beer Name=Delirium Tremens<br>Year=%{x}<br>Average Rating=%{y}<extra></extra>",
         "legendgroup": "Delirium Tremens",
         "line": {
          "color": "#EF553B",
          "dash": "solid"
         },
         "marker": {
          "symbol": "circle"
         },
         "mode": "lines+markers",
         "name": "Delirium Tremens",
         "orientation": "v",
         "showlegend": true,
         "type": "scatter",
         "x": [
          2001,
          2002,
          2003,
          2004,
          2005,
          2006,
          2007,
          2008,
          2009,
          2010,
          2011,
          2012,
          2013,
          2014,
          2015,
          2016,
          2017
         ],
         "xaxis": "x",
         "y": [
          4.5,
          3.8666666666666667,
          3.9,
          3.96,
          3.5,
          3.7957894736842106,
          3.6370588235294115,
          3.780625,
          3.9566666666666666,
          4.005294117647059,
          3.915,
          3.7090697674418607,
          3.683953488372093,
          3.5896363636363637,
          3.857441860465116,
          3.703333333333333,
          3.788888888888889
         ],
         "yaxis": "y"
        },
        {
         "hovertemplate": "Beer Name=Girardin Kriek<br>Year=%{x}<br>Average Rating=%{y}<extra></extra>",
         "legendgroup": "Girardin Kriek",
         "line": {
          "color": "#00cc96",
          "dash": "solid"
         },
         "marker": {
          "symbol": "circle"
         },
         "mode": "lines+markers",
         "name": "Girardin Kriek",
         "orientation": "v",
         "showlegend": true,
         "type": "scatter",
         "x": [
          2001,
          2002,
          2003,
          2004,
          2005,
          2006,
          2007,
          2008,
          2009,
          2010,
          2011,
          2012,
          2013,
          2014,
          2015,
          2016,
          2017
         ],
         "xaxis": "x",
         "y": [
          4.8,
          2.5,
          3.1,
          3.7,
          4.1,
          3.733333333333333,
          3.4,
          3.55,
          3.9,
          3.7,
          3.5200000000000005,
          3.85,
          3.5666666666666664,
          3.7142857142857144,
          3.4,
          3.733333333333333,
          3.4
         ],
         "yaxis": "y"
        },
        {
         "hovertemplate": "Beer Name=Trappistes Rochefort 10<br>Year=%{x}<br>Average Rating=%{y}<extra></extra>",
         "legendgroup": "Trappistes Rochefort 10",
         "line": {
          "color": "#ab63fa",
          "dash": "solid"
         },
         "marker": {
          "symbol": "circle"
         },
         "mode": "lines+markers",
         "name": "Trappistes Rochefort 10",
         "orientation": "v",
         "showlegend": true,
         "type": "scatter",
         "x": [
          2001,
          2002,
          2003,
          2004,
          2005,
          2006,
          2007,
          2008,
          2009,
          2010,
          2011,
          2012,
          2013,
          2014,
          2015,
          2016,
          2017
         ],
         "xaxis": "x",
         "y": [
          4.6000000000000005,
          4.74,
          4.35,
          4.292727272727273,
          4.497777777777777,
          4.46578947368421,
          4.4935294117647056,
          4.1850000000000005,
          4.3029629629629635,
          4.386666666666667,
          4.388571428571429,
          4.347391304347826,
          4.3774444444444445,
          4.298,
          4.394588235294118,
          4.365098039215686,
          4.411081081081082
         ],
         "yaxis": "y"
        }
       ],
       "layout": {
        "legend": {
         "title": {
          "text": "Beer Name"
         },
         "tracegroupgap": 0,
         "x": 1.05,
         "y": 1
        },
        "template": {
         "data": {
          "bar": [
           {
            "error_x": {
             "color": "#2a3f5f"
            },
            "error_y": {
             "color": "#2a3f5f"
            },
            "marker": {
             "line": {
              "color": "white",
              "width": 0.5
             },
             "pattern": {
              "fillmode": "overlay",
              "size": 10,
              "solidity": 0.2
             }
            },
            "type": "bar"
           }
          ],
          "barpolar": [
           {
            "marker": {
             "line": {
              "color": "white",
              "width": 0.5
             },
             "pattern": {
              "fillmode": "overlay",
              "size": 10,
              "solidity": 0.2
             }
            },
            "type": "barpolar"
           }
          ],
          "carpet": [
           {
            "aaxis": {
             "endlinecolor": "#2a3f5f",
             "gridcolor": "#C8D4E3",
             "linecolor": "#C8D4E3",
             "minorgridcolor": "#C8D4E3",
             "startlinecolor": "#2a3f5f"
            },
            "baxis": {
             "endlinecolor": "#2a3f5f",
             "gridcolor": "#C8D4E3",
             "linecolor": "#C8D4E3",
             "minorgridcolor": "#C8D4E3",
             "startlinecolor": "#2a3f5f"
            },
            "type": "carpet"
           }
          ],
          "choropleth": [
           {
            "colorbar": {
             "outlinewidth": 0,
             "ticks": ""
            },
            "type": "choropleth"
           }
          ],
          "contour": [
           {
            "colorbar": {
             "outlinewidth": 0,
             "ticks": ""
            },
            "colorscale": [
             [
              0,
              "#0d0887"
             ],
             [
              0.1111111111111111,
              "#46039f"
             ],
             [
              0.2222222222222222,
              "#7201a8"
             ],
             [
              0.3333333333333333,
              "#9c179e"
             ],
             [
              0.4444444444444444,
              "#bd3786"
             ],
             [
              0.5555555555555556,
              "#d8576b"
             ],
             [
              0.6666666666666666,
              "#ed7953"
             ],
             [
              0.7777777777777778,
              "#fb9f3a"
             ],
             [
              0.8888888888888888,
              "#fdca26"
             ],
             [
              1,
              "#f0f921"
             ]
            ],
            "type": "contour"
           }
          ],
          "contourcarpet": [
           {
            "colorbar": {
             "outlinewidth": 0,
             "ticks": ""
            },
            "type": "contourcarpet"
           }
          ],
          "heatmap": [
           {
            "colorbar": {
             "outlinewidth": 0,
             "ticks": ""
            },
            "colorscale": [
             [
              0,
              "#0d0887"
             ],
             [
              0.1111111111111111,
              "#46039f"
             ],
             [
              0.2222222222222222,
              "#7201a8"
             ],
             [
              0.3333333333333333,
              "#9c179e"
             ],
             [
              0.4444444444444444,
              "#bd3786"
             ],
             [
              0.5555555555555556,
              "#d8576b"
             ],
             [
              0.6666666666666666,
              "#ed7953"
             ],
             [
              0.7777777777777778,
              "#fb9f3a"
             ],
             [
              0.8888888888888888,
              "#fdca26"
             ],
             [
              1,
              "#f0f921"
             ]
            ],
            "type": "heatmap"
           }
          ],
          "heatmapgl": [
           {
            "colorbar": {
             "outlinewidth": 0,
             "ticks": ""
            },
            "colorscale": [
             [
              0,
              "#0d0887"
             ],
             [
              0.1111111111111111,
              "#46039f"
             ],
             [
              0.2222222222222222,
              "#7201a8"
             ],
             [
              0.3333333333333333,
              "#9c179e"
             ],
             [
              0.4444444444444444,
              "#bd3786"
             ],
             [
              0.5555555555555556,
              "#d8576b"
             ],
             [
              0.6666666666666666,
              "#ed7953"
             ],
             [
              0.7777777777777778,
              "#fb9f3a"
             ],
             [
              0.8888888888888888,
              "#fdca26"
             ],
             [
              1,
              "#f0f921"
             ]
            ],
            "type": "heatmapgl"
           }
          ],
          "histogram": [
           {
            "marker": {
             "pattern": {
              "fillmode": "overlay",
              "size": 10,
              "solidity": 0.2
             }
            },
            "type": "histogram"
           }
          ],
          "histogram2d": [
           {
            "colorbar": {
             "outlinewidth": 0,
             "ticks": ""
            },
            "colorscale": [
             [
              0,
              "#0d0887"
             ],
             [
              0.1111111111111111,
              "#46039f"
             ],
             [
              0.2222222222222222,
              "#7201a8"
             ],
             [
              0.3333333333333333,
              "#9c179e"
             ],
             [
              0.4444444444444444,
              "#bd3786"
             ],
             [
              0.5555555555555556,
              "#d8576b"
             ],
             [
              0.6666666666666666,
              "#ed7953"
             ],
             [
              0.7777777777777778,
              "#fb9f3a"
             ],
             [
              0.8888888888888888,
              "#fdca26"
             ],
             [
              1,
              "#f0f921"
             ]
            ],
            "type": "histogram2d"
           }
          ],
          "histogram2dcontour": [
           {
            "colorbar": {
             "outlinewidth": 0,
             "ticks": ""
            },
            "colorscale": [
             [
              0,
              "#0d0887"
             ],
             [
              0.1111111111111111,
              "#46039f"
             ],
             [
              0.2222222222222222,
              "#7201a8"
             ],
             [
              0.3333333333333333,
              "#9c179e"
             ],
             [
              0.4444444444444444,
              "#bd3786"
             ],
             [
              0.5555555555555556,
              "#d8576b"
             ],
             [
              0.6666666666666666,
              "#ed7953"
             ],
             [
              0.7777777777777778,
              "#fb9f3a"
             ],
             [
              0.8888888888888888,
              "#fdca26"
             ],
             [
              1,
              "#f0f921"
             ]
            ],
            "type": "histogram2dcontour"
           }
          ],
          "mesh3d": [
           {
            "colorbar": {
             "outlinewidth": 0,
             "ticks": ""
            },
            "type": "mesh3d"
           }
          ],
          "parcoords": [
           {
            "line": {
             "colorbar": {
              "outlinewidth": 0,
              "ticks": ""
             }
            },
            "type": "parcoords"
           }
          ],
          "pie": [
           {
            "automargin": true,
            "type": "pie"
           }
          ],
          "scatter": [
           {
            "fillpattern": {
             "fillmode": "overlay",
             "size": 10,
             "solidity": 0.2
            },
            "type": "scatter"
           }
          ],
          "scatter3d": [
           {
            "line": {
             "colorbar": {
              "outlinewidth": 0,
              "ticks": ""
             }
            },
            "marker": {
             "colorbar": {
              "outlinewidth": 0,
              "ticks": ""
             }
            },
            "type": "scatter3d"
           }
          ],
          "scattercarpet": [
           {
            "marker": {
             "colorbar": {
              "outlinewidth": 0,
              "ticks": ""
             }
            },
            "type": "scattercarpet"
           }
          ],
          "scattergeo": [
           {
            "marker": {
             "colorbar": {
              "outlinewidth": 0,
              "ticks": ""
             }
            },
            "type": "scattergeo"
           }
          ],
          "scattergl": [
           {
            "marker": {
             "colorbar": {
              "outlinewidth": 0,
              "ticks": ""
             }
            },
            "type": "scattergl"
           }
          ],
          "scattermapbox": [
           {
            "marker": {
             "colorbar": {
              "outlinewidth": 0,
              "ticks": ""
             }
            },
            "type": "scattermapbox"
           }
          ],
          "scatterpolar": [
           {
            "marker": {
             "colorbar": {
              "outlinewidth": 0,
              "ticks": ""
             }
            },
            "type": "scatterpolar"
           }
          ],
          "scatterpolargl": [
           {
            "marker": {
             "colorbar": {
              "outlinewidth": 0,
              "ticks": ""
             }
            },
            "type": "scatterpolargl"
           }
          ],
          "scatterternary": [
           {
            "marker": {
             "colorbar": {
              "outlinewidth": 0,
              "ticks": ""
             }
            },
            "type": "scatterternary"
           }
          ],
          "surface": [
           {
            "colorbar": {
             "outlinewidth": 0,
             "ticks": ""
            },
            "colorscale": [
             [
              0,
              "#0d0887"
             ],
             [
              0.1111111111111111,
              "#46039f"
             ],
             [
              0.2222222222222222,
              "#7201a8"
             ],
             [
              0.3333333333333333,
              "#9c179e"
             ],
             [
              0.4444444444444444,
              "#bd3786"
             ],
             [
              0.5555555555555556,
              "#d8576b"
             ],
             [
              0.6666666666666666,
              "#ed7953"
             ],
             [
              0.7777777777777778,
              "#fb9f3a"
             ],
             [
              0.8888888888888888,
              "#fdca26"
             ],
             [
              1,
              "#f0f921"
             ]
            ],
            "type": "surface"
           }
          ],
          "table": [
           {
            "cells": {
             "fill": {
              "color": "#EBF0F8"
             },
             "line": {
              "color": "white"
             }
            },
            "header": {
             "fill": {
              "color": "#C8D4E3"
             },
             "line": {
              "color": "white"
             }
            },
            "type": "table"
           }
          ]
         },
         "layout": {
          "annotationdefaults": {
           "arrowcolor": "#2a3f5f",
           "arrowhead": 0,
           "arrowwidth": 1
          },
          "autotypenumbers": "strict",
          "coloraxis": {
           "colorbar": {
            "outlinewidth": 0,
            "ticks": ""
           }
          },
          "colorscale": {
           "diverging": [
            [
             0,
             "#8e0152"
            ],
            [
             0.1,
             "#c51b7d"
            ],
            [
             0.2,
             "#de77ae"
            ],
            [
             0.3,
             "#f1b6da"
            ],
            [
             0.4,
             "#fde0ef"
            ],
            [
             0.5,
             "#f7f7f7"
            ],
            [
             0.6,
             "#e6f5d0"
            ],
            [
             0.7,
             "#b8e186"
            ],
            [
             0.8,
             "#7fbc41"
            ],
            [
             0.9,
             "#4d9221"
            ],
            [
             1,
             "#276419"
            ]
           ],
           "sequential": [
            [
             0,
             "#0d0887"
            ],
            [
             0.1111111111111111,
             "#46039f"
            ],
            [
             0.2222222222222222,
             "#7201a8"
            ],
            [
             0.3333333333333333,
             "#9c179e"
            ],
            [
             0.4444444444444444,
             "#bd3786"
            ],
            [
             0.5555555555555556,
             "#d8576b"
            ],
            [
             0.6666666666666666,
             "#ed7953"
            ],
            [
             0.7777777777777778,
             "#fb9f3a"
            ],
            [
             0.8888888888888888,
             "#fdca26"
            ],
            [
             1,
             "#f0f921"
            ]
           ],
           "sequentialminus": [
            [
             0,
             "#0d0887"
            ],
            [
             0.1111111111111111,
             "#46039f"
            ],
            [
             0.2222222222222222,
             "#7201a8"
            ],
            [
             0.3333333333333333,
             "#9c179e"
            ],
            [
             0.4444444444444444,
             "#bd3786"
            ],
            [
             0.5555555555555556,
             "#d8576b"
            ],
            [
             0.6666666666666666,
             "#ed7953"
            ],
            [
             0.7777777777777778,
             "#fb9f3a"
            ],
            [
             0.8888888888888888,
             "#fdca26"
            ],
            [
             1,
             "#f0f921"
            ]
           ]
          },
          "colorway": [
           "#636efa",
           "#EF553B",
           "#00cc96",
           "#ab63fa",
           "#FFA15A",
           "#19d3f3",
           "#FF6692",
           "#B6E880",
           "#FF97FF",
           "#FECB52"
          ],
          "font": {
           "color": "#2a3f5f"
          },
          "geo": {
           "bgcolor": "white",
           "lakecolor": "white",
           "landcolor": "white",
           "showlakes": true,
           "showland": true,
           "subunitcolor": "#C8D4E3"
          },
          "hoverlabel": {
           "align": "left"
          },
          "hovermode": "closest",
          "mapbox": {
           "style": "light"
          },
          "paper_bgcolor": "white",
          "plot_bgcolor": "white",
          "polar": {
           "angularaxis": {
            "gridcolor": "#EBF0F8",
            "linecolor": "#EBF0F8",
            "ticks": ""
           },
           "bgcolor": "white",
           "radialaxis": {
            "gridcolor": "#EBF0F8",
            "linecolor": "#EBF0F8",
            "ticks": ""
           }
          },
          "scene": {
           "xaxis": {
            "backgroundcolor": "white",
            "gridcolor": "#DFE8F3",
            "gridwidth": 2,
            "linecolor": "#EBF0F8",
            "showbackground": true,
            "ticks": "",
            "zerolinecolor": "#EBF0F8"
           },
           "yaxis": {
            "backgroundcolor": "white",
            "gridcolor": "#DFE8F3",
            "gridwidth": 2,
            "linecolor": "#EBF0F8",
            "showbackground": true,
            "ticks": "",
            "zerolinecolor": "#EBF0F8"
           },
           "zaxis": {
            "backgroundcolor": "white",
            "gridcolor": "#DFE8F3",
            "gridwidth": 2,
            "linecolor": "#EBF0F8",
            "showbackground": true,
            "ticks": "",
            "zerolinecolor": "#EBF0F8"
           }
          },
          "shapedefaults": {
           "line": {
            "color": "#2a3f5f"
           }
          },
          "ternary": {
           "aaxis": {
            "gridcolor": "#DFE8F3",
            "linecolor": "#A2B1C6",
            "ticks": ""
           },
           "baxis": {
            "gridcolor": "#DFE8F3",
            "linecolor": "#A2B1C6",
            "ticks": ""
           },
           "bgcolor": "white",
           "caxis": {
            "gridcolor": "#DFE8F3",
            "linecolor": "#A2B1C6",
            "ticks": ""
           }
          },
          "title": {
           "x": 0.05
          },
          "xaxis": {
           "automargin": true,
           "gridcolor": "#EBF0F8",
           "linecolor": "#EBF0F8",
           "ticks": "",
           "title": {
            "standoff": 15
           },
           "zerolinecolor": "#EBF0F8",
           "zerolinewidth": 2
          },
          "yaxis": {
           "automargin": true,
           "gridcolor": "#EBF0F8",
           "linecolor": "#EBF0F8",
           "ticks": "",
           "title": {
            "standoff": 15
           },
           "zerolinecolor": "#EBF0F8",
           "zerolinewidth": 2
          }
         }
        },
        "title": {
         "font": {
          "size": 20
         },
         "text": "Average Beer Ratings by Year and Beer Name in Belgium",
         "x": 0.5,
         "xanchor": "center",
         "yanchor": "top"
        },
        "xaxis": {
         "anchor": "y",
         "domain": [
          0,
          1
         ],
         "dtick": 1,
         "tick0": 2001,
         "tickmode": "linear",
         "title": {
          "text": "Year"
         }
        },
        "yaxis": {
         "anchor": "x",
         "domain": [
          0,
          1
         ],
         "title": {
          "text": "Average Rating"
         }
        }
       }
      }
     },
     "metadata": {},
     "output_type": "display_data"
    }
   ],
   "source": [
    "belgium_beers, rating_by_year_beer_filtered = df_funfact_2(beers_df_copy)  \n",
    "fig_funfact2 = plot_funfact_2(rating_by_year_beer_filtered)\n",
    "\n",
    "# Displaying the plot\n",
    "fig_funfact2.show()\n",
    "\n",
    "# Saving the plot as html and svg formats\n",
    "save_plot_as_html(fig_funfact2, './website/_layouts/fig_funfact2.html')\n",
    "save_plot_as_svg(fig_funfact2, './website/assets/figures/fig_funfact2.svg')\n"
   ]
  },
  {
   "cell_type": "markdown",
   "metadata": {},
   "source": [
    "## Fun fact #3 - Bob travels from Belgium to Canada "
   ]
  },
  {
   "cell_type": "code",
   "execution_count": 23,
   "metadata": {},
   "outputs": [
    {
     "data": {
      "application/vnd.plotly.v1+json": {
       "config": {
        "plotlyServerURL": "https://plot.ly"
       },
       "data": [
        {
         "hole": 0.3,
         "insidetextorientation": "radial",
         "labels": [
          "Belgian Ale",
          "Dark Lager",
          "Hybrid Styles",
          "India Pale Ale (IPA)",
          "Lager",
          "Low Alcohol",
          "Other Ales",
          "Pale Ale",
          "Pilsner",
          "Porter",
          "Saison & Farmhouse",
          "Sour Ale",
          "Specialty & Seasonal",
          "Stout",
          "Strong Ale",
          "Strong Lager",
          "Wheat Beer"
         ],
         "marker": {
          "colors": [
           "#1f77b4",
           "#aec7e8",
           "#ff7f0e",
           "#ffbb78",
           "#2ca02c",
           "#98df8a",
           "#d62728",
           "#ff9896",
           "#9467bd",
           "#c5b0d5",
           "#8c564b",
           "#c49c94",
           "#e377c2",
           "#f7b6d2",
           "#7f7f7f",
           "#c7c7c7",
           "#bcbd22"
          ]
         },
         "name": "Belgium",
         "textinfo": "label+percent",
         "textposition": "inside",
         "type": "pie",
         "values": [
          3.6002790770190205,
          3.1849246231155774,
          3.474551971326165,
          3.6977147707979627,
          2.619672667757774,
          2.5357608695652174,
          3.3419685039370077,
          3.4173510466988732,
          2.858755186721992,
          3.80099173553719,
          3.528715203426124,
          3.8231076178960093,
          3.0912195121951216,
          3.8576271186440674,
          3.6086802973977696,
          3.267422680412371,
          3.277799442896936
         ]
        },
        {
         "domain": {
          "x": [
           0.55,
           1
          ]
         },
         "hole": 0.3,
         "insidetextorientation": "radial",
         "labels": [
          "Belgian Ale",
          "Dark Lager",
          "Hybrid Styles",
          "India Pale Ale (IPA)",
          "Lager",
          "Low Alcohol",
          "Other Ales",
          "Pale Ale",
          "Pilsner",
          "Porter",
          "Saison & Farmhouse",
          "Sour Ale",
          "Specialty & Seasonal",
          "Stout",
          "Strong Ale",
          "Strong Lager",
          "Wheat Beer"
         ],
         "marker": {
          "colors": [
           "#1f77b4",
           "#aec7e8",
           "#ff7f0e",
           "#ffbb78",
           "#2ca02c",
           "#98df8a",
           "#d62728",
           "#ff9896",
           "#9467bd",
           "#c5b0d5",
           "#8c564b",
           "#c49c94",
           "#e377c2",
           "#f7b6d2",
           "#7f7f7f",
           "#c7c7c7",
           "#bcbd22"
          ]
         },
         "name": "Canada",
         "textinfo": "label+percent",
         "textposition": "inside",
         "type": "pie",
         "values": [
          3.6075157318741446,
          3.3066310873915947,
          3.479461247637051,
          3.6071658973360767,
          2.83539035438316,
          2.3263157894736843,
          3.3822954977805963,
          3.2762791061103296,
          3.124928818776452,
          3.713257731958763,
          3.586929024277099,
          3.717695749440716,
          3.138537019296565,
          3.7627560560985973,
          3.4686346701731314,
          3.2052191011235953,
          3.2628834586466167
         ]
        }
       ],
       "layout": {
        "annotations": [
         {
          "font": {
           "color": "black",
           "family": "Arial",
           "size": 15
          },
          "showarrow": false,
          "text": "<b>Belgium</b>",
          "x": 0.2,
          "y": 1.1
         },
         {
          "font": {
           "color": "black",
           "family": "Arial",
           "size": 15
          },
          "showarrow": false,
          "text": "<b>Canada</b>",
          "x": 0.8,
          "y": 1.1
         }
        ],
        "grid": {
         "columns": 2,
         "rows": 1
        },
        "height": 500,
        "legend": {
         "font": {
          "size": 12
         },
         "traceorder": "normal",
         "x": 1.05,
         "y": 0.5
        },
        "piecolorway": [
         "#1f77b4",
         "#aec7e8",
         "#ff7f0e",
         "#ffbb78",
         "#2ca02c",
         "#98df8a",
         "#d62728",
         "#ff9896",
         "#9467bd",
         "#c5b0d5",
         "#8c564b",
         "#c49c94",
         "#e377c2",
         "#f7b6d2",
         "#7f7f7f",
         "#c7c7c7",
         "#bcbd22"
        ],
        "showlegend": true,
        "template": {
         "data": {
          "bar": [
           {
            "error_x": {
             "color": "#2a3f5f"
            },
            "error_y": {
             "color": "#2a3f5f"
            },
            "marker": {
             "line": {
              "color": "#E5ECF6",
              "width": 0.5
             },
             "pattern": {
              "fillmode": "overlay",
              "size": 10,
              "solidity": 0.2
             }
            },
            "type": "bar"
           }
          ],
          "barpolar": [
           {
            "marker": {
             "line": {
              "color": "#E5ECF6",
              "width": 0.5
             },
             "pattern": {
              "fillmode": "overlay",
              "size": 10,
              "solidity": 0.2
             }
            },
            "type": "barpolar"
           }
          ],
          "carpet": [
           {
            "aaxis": {
             "endlinecolor": "#2a3f5f",
             "gridcolor": "white",
             "linecolor": "white",
             "minorgridcolor": "white",
             "startlinecolor": "#2a3f5f"
            },
            "baxis": {
             "endlinecolor": "#2a3f5f",
             "gridcolor": "white",
             "linecolor": "white",
             "minorgridcolor": "white",
             "startlinecolor": "#2a3f5f"
            },
            "type": "carpet"
           }
          ],
          "choropleth": [
           {
            "colorbar": {
             "outlinewidth": 0,
             "ticks": ""
            },
            "type": "choropleth"
           }
          ],
          "contour": [
           {
            "colorbar": {
             "outlinewidth": 0,
             "ticks": ""
            },
            "colorscale": [
             [
              0,
              "#0d0887"
             ],
             [
              0.1111111111111111,
              "#46039f"
             ],
             [
              0.2222222222222222,
              "#7201a8"
             ],
             [
              0.3333333333333333,
              "#9c179e"
             ],
             [
              0.4444444444444444,
              "#bd3786"
             ],
             [
              0.5555555555555556,
              "#d8576b"
             ],
             [
              0.6666666666666666,
              "#ed7953"
             ],
             [
              0.7777777777777778,
              "#fb9f3a"
             ],
             [
              0.8888888888888888,
              "#fdca26"
             ],
             [
              1,
              "#f0f921"
             ]
            ],
            "type": "contour"
           }
          ],
          "contourcarpet": [
           {
            "colorbar": {
             "outlinewidth": 0,
             "ticks": ""
            },
            "type": "contourcarpet"
           }
          ],
          "heatmap": [
           {
            "colorbar": {
             "outlinewidth": 0,
             "ticks": ""
            },
            "colorscale": [
             [
              0,
              "#0d0887"
             ],
             [
              0.1111111111111111,
              "#46039f"
             ],
             [
              0.2222222222222222,
              "#7201a8"
             ],
             [
              0.3333333333333333,
              "#9c179e"
             ],
             [
              0.4444444444444444,
              "#bd3786"
             ],
             [
              0.5555555555555556,
              "#d8576b"
             ],
             [
              0.6666666666666666,
              "#ed7953"
             ],
             [
              0.7777777777777778,
              "#fb9f3a"
             ],
             [
              0.8888888888888888,
              "#fdca26"
             ],
             [
              1,
              "#f0f921"
             ]
            ],
            "type": "heatmap"
           }
          ],
          "heatmapgl": [
           {
            "colorbar": {
             "outlinewidth": 0,
             "ticks": ""
            },
            "colorscale": [
             [
              0,
              "#0d0887"
             ],
             [
              0.1111111111111111,
              "#46039f"
             ],
             [
              0.2222222222222222,
              "#7201a8"
             ],
             [
              0.3333333333333333,
              "#9c179e"
             ],
             [
              0.4444444444444444,
              "#bd3786"
             ],
             [
              0.5555555555555556,
              "#d8576b"
             ],
             [
              0.6666666666666666,
              "#ed7953"
             ],
             [
              0.7777777777777778,
              "#fb9f3a"
             ],
             [
              0.8888888888888888,
              "#fdca26"
             ],
             [
              1,
              "#f0f921"
             ]
            ],
            "type": "heatmapgl"
           }
          ],
          "histogram": [
           {
            "marker": {
             "pattern": {
              "fillmode": "overlay",
              "size": 10,
              "solidity": 0.2
             }
            },
            "type": "histogram"
           }
          ],
          "histogram2d": [
           {
            "colorbar": {
             "outlinewidth": 0,
             "ticks": ""
            },
            "colorscale": [
             [
              0,
              "#0d0887"
             ],
             [
              0.1111111111111111,
              "#46039f"
             ],
             [
              0.2222222222222222,
              "#7201a8"
             ],
             [
              0.3333333333333333,
              "#9c179e"
             ],
             [
              0.4444444444444444,
              "#bd3786"
             ],
             [
              0.5555555555555556,
              "#d8576b"
             ],
             [
              0.6666666666666666,
              "#ed7953"
             ],
             [
              0.7777777777777778,
              "#fb9f3a"
             ],
             [
              0.8888888888888888,
              "#fdca26"
             ],
             [
              1,
              "#f0f921"
             ]
            ],
            "type": "histogram2d"
           }
          ],
          "histogram2dcontour": [
           {
            "colorbar": {
             "outlinewidth": 0,
             "ticks": ""
            },
            "colorscale": [
             [
              0,
              "#0d0887"
             ],
             [
              0.1111111111111111,
              "#46039f"
             ],
             [
              0.2222222222222222,
              "#7201a8"
             ],
             [
              0.3333333333333333,
              "#9c179e"
             ],
             [
              0.4444444444444444,
              "#bd3786"
             ],
             [
              0.5555555555555556,
              "#d8576b"
             ],
             [
              0.6666666666666666,
              "#ed7953"
             ],
             [
              0.7777777777777778,
              "#fb9f3a"
             ],
             [
              0.8888888888888888,
              "#fdca26"
             ],
             [
              1,
              "#f0f921"
             ]
            ],
            "type": "histogram2dcontour"
           }
          ],
          "mesh3d": [
           {
            "colorbar": {
             "outlinewidth": 0,
             "ticks": ""
            },
            "type": "mesh3d"
           }
          ],
          "parcoords": [
           {
            "line": {
             "colorbar": {
              "outlinewidth": 0,
              "ticks": ""
             }
            },
            "type": "parcoords"
           }
          ],
          "pie": [
           {
            "automargin": true,
            "type": "pie"
           }
          ],
          "scatter": [
           {
            "fillpattern": {
             "fillmode": "overlay",
             "size": 10,
             "solidity": 0.2
            },
            "type": "scatter"
           }
          ],
          "scatter3d": [
           {
            "line": {
             "colorbar": {
              "outlinewidth": 0,
              "ticks": ""
             }
            },
            "marker": {
             "colorbar": {
              "outlinewidth": 0,
              "ticks": ""
             }
            },
            "type": "scatter3d"
           }
          ],
          "scattercarpet": [
           {
            "marker": {
             "colorbar": {
              "outlinewidth": 0,
              "ticks": ""
             }
            },
            "type": "scattercarpet"
           }
          ],
          "scattergeo": [
           {
            "marker": {
             "colorbar": {
              "outlinewidth": 0,
              "ticks": ""
             }
            },
            "type": "scattergeo"
           }
          ],
          "scattergl": [
           {
            "marker": {
             "colorbar": {
              "outlinewidth": 0,
              "ticks": ""
             }
            },
            "type": "scattergl"
           }
          ],
          "scattermapbox": [
           {
            "marker": {
             "colorbar": {
              "outlinewidth": 0,
              "ticks": ""
             }
            },
            "type": "scattermapbox"
           }
          ],
          "scatterpolar": [
           {
            "marker": {
             "colorbar": {
              "outlinewidth": 0,
              "ticks": ""
             }
            },
            "type": "scatterpolar"
           }
          ],
          "scatterpolargl": [
           {
            "marker": {
             "colorbar": {
              "outlinewidth": 0,
              "ticks": ""
             }
            },
            "type": "scatterpolargl"
           }
          ],
          "scatterternary": [
           {
            "marker": {
             "colorbar": {
              "outlinewidth": 0,
              "ticks": ""
             }
            },
            "type": "scatterternary"
           }
          ],
          "surface": [
           {
            "colorbar": {
             "outlinewidth": 0,
             "ticks": ""
            },
            "colorscale": [
             [
              0,
              "#0d0887"
             ],
             [
              0.1111111111111111,
              "#46039f"
             ],
             [
              0.2222222222222222,
              "#7201a8"
             ],
             [
              0.3333333333333333,
              "#9c179e"
             ],
             [
              0.4444444444444444,
              "#bd3786"
             ],
             [
              0.5555555555555556,
              "#d8576b"
             ],
             [
              0.6666666666666666,
              "#ed7953"
             ],
             [
              0.7777777777777778,
              "#fb9f3a"
             ],
             [
              0.8888888888888888,
              "#fdca26"
             ],
             [
              1,
              "#f0f921"
             ]
            ],
            "type": "surface"
           }
          ],
          "table": [
           {
            "cells": {
             "fill": {
              "color": "#EBF0F8"
             },
             "line": {
              "color": "white"
             }
            },
            "header": {
             "fill": {
              "color": "#C8D4E3"
             },
             "line": {
              "color": "white"
             }
            },
            "type": "table"
           }
          ]
         },
         "layout": {
          "annotationdefaults": {
           "arrowcolor": "#2a3f5f",
           "arrowhead": 0,
           "arrowwidth": 1
          },
          "autotypenumbers": "strict",
          "coloraxis": {
           "colorbar": {
            "outlinewidth": 0,
            "ticks": ""
           }
          },
          "colorscale": {
           "diverging": [
            [
             0,
             "#8e0152"
            ],
            [
             0.1,
             "#c51b7d"
            ],
            [
             0.2,
             "#de77ae"
            ],
            [
             0.3,
             "#f1b6da"
            ],
            [
             0.4,
             "#fde0ef"
            ],
            [
             0.5,
             "#f7f7f7"
            ],
            [
             0.6,
             "#e6f5d0"
            ],
            [
             0.7,
             "#b8e186"
            ],
            [
             0.8,
             "#7fbc41"
            ],
            [
             0.9,
             "#4d9221"
            ],
            [
             1,
             "#276419"
            ]
           ],
           "sequential": [
            [
             0,
             "#0d0887"
            ],
            [
             0.1111111111111111,
             "#46039f"
            ],
            [
             0.2222222222222222,
             "#7201a8"
            ],
            [
             0.3333333333333333,
             "#9c179e"
            ],
            [
             0.4444444444444444,
             "#bd3786"
            ],
            [
             0.5555555555555556,
             "#d8576b"
            ],
            [
             0.6666666666666666,
             "#ed7953"
            ],
            [
             0.7777777777777778,
             "#fb9f3a"
            ],
            [
             0.8888888888888888,
             "#fdca26"
            ],
            [
             1,
             "#f0f921"
            ]
           ],
           "sequentialminus": [
            [
             0,
             "#0d0887"
            ],
            [
             0.1111111111111111,
             "#46039f"
            ],
            [
             0.2222222222222222,
             "#7201a8"
            ],
            [
             0.3333333333333333,
             "#9c179e"
            ],
            [
             0.4444444444444444,
             "#bd3786"
            ],
            [
             0.5555555555555556,
             "#d8576b"
            ],
            [
             0.6666666666666666,
             "#ed7953"
            ],
            [
             0.7777777777777778,
             "#fb9f3a"
            ],
            [
             0.8888888888888888,
             "#fdca26"
            ],
            [
             1,
             "#f0f921"
            ]
           ]
          },
          "colorway": [
           "#636efa",
           "#EF553B",
           "#00cc96",
           "#ab63fa",
           "#FFA15A",
           "#19d3f3",
           "#FF6692",
           "#B6E880",
           "#FF97FF",
           "#FECB52"
          ],
          "font": {
           "color": "#2a3f5f"
          },
          "geo": {
           "bgcolor": "white",
           "lakecolor": "white",
           "landcolor": "#E5ECF6",
           "showlakes": true,
           "showland": true,
           "subunitcolor": "white"
          },
          "hoverlabel": {
           "align": "left"
          },
          "hovermode": "closest",
          "mapbox": {
           "style": "light"
          },
          "paper_bgcolor": "white",
          "plot_bgcolor": "#E5ECF6",
          "polar": {
           "angularaxis": {
            "gridcolor": "white",
            "linecolor": "white",
            "ticks": ""
           },
           "bgcolor": "#E5ECF6",
           "radialaxis": {
            "gridcolor": "white",
            "linecolor": "white",
            "ticks": ""
           }
          },
          "scene": {
           "xaxis": {
            "backgroundcolor": "#E5ECF6",
            "gridcolor": "white",
            "gridwidth": 2,
            "linecolor": "white",
            "showbackground": true,
            "ticks": "",
            "zerolinecolor": "white"
           },
           "yaxis": {
            "backgroundcolor": "#E5ECF6",
            "gridcolor": "white",
            "gridwidth": 2,
            "linecolor": "white",
            "showbackground": true,
            "ticks": "",
            "zerolinecolor": "white"
           },
           "zaxis": {
            "backgroundcolor": "#E5ECF6",
            "gridcolor": "white",
            "gridwidth": 2,
            "linecolor": "white",
            "showbackground": true,
            "ticks": "",
            "zerolinecolor": "white"
           }
          },
          "shapedefaults": {
           "line": {
            "color": "#2a3f5f"
           }
          },
          "ternary": {
           "aaxis": {
            "gridcolor": "white",
            "linecolor": "white",
            "ticks": ""
           },
           "baxis": {
            "gridcolor": "white",
            "linecolor": "white",
            "ticks": ""
           },
           "bgcolor": "#E5ECF6",
           "caxis": {
            "gridcolor": "white",
            "linecolor": "white",
            "ticks": ""
           }
          },
          "title": {
           "x": 0.05
          },
          "xaxis": {
           "automargin": true,
           "gridcolor": "white",
           "linecolor": "white",
           "ticks": "",
           "title": {
            "standoff": 15
           },
           "zerolinecolor": "white",
           "zerolinewidth": 2
          },
          "yaxis": {
           "automargin": true,
           "gridcolor": "white",
           "linecolor": "white",
           "ticks": "",
           "title": {
            "standoff": 15
           },
           "zerolinecolor": "white",
           "zerolinewidth": 2
          }
         }
        },
        "title": {
         "text": "Beer styles in Belgium and Canada (Based on Average Ratings)",
         "x": 0.5
        },
        "width": 1100
       }
      }
     },
     "metadata": {},
     "output_type": "display_data"
    }
   ],
   "source": [
    "\n",
    "beer_avg_rating, belgium_data, canada_data = df_funfact_3(beers_df_copy)\n",
    "fig_funfact3 = plot_funfact_3(beer_avg_rating, belgium_data, canada_data)\n",
    "\n",
    "# Displaying the plot\n",
    "fig_funfact3.show()\n",
    "\n",
    "# Saving the plot as html and svg formats\n",
    "save_plot_as_html(fig_funfact3, './website/_layouts/fig_funfact3.html')\n",
    "save_plot_as_svg(fig_funfact3, './website/assets/figures/fig_funfact3.svg')\n"
   ]
  },
  {
   "cell_type": "markdown",
   "metadata": {},
   "source": [
    "## Fun fact #4 - Bob travels from Canada to the USA"
   ]
  },
  {
   "cell_type": "code",
   "execution_count": 25,
   "metadata": {},
   "outputs": [
    {
     "data": {
      "application/vnd.plotly.v1+json": {
       "config": {
        "plotlyServerURL": "https://plot.ly"
       },
       "data": [
        {
         "alignmentgroup": "True",
         "customdata": [
          [
           "Straight To Ale"
          ]
         ],
         "hovertemplate": "<b>State:</b> %{x}<br><b>Brewery:</b> %{customdata[0]}<br><b>Count:</b> %{y}<extra></extra>",
         "legendgroup": "Straight To Ale",
         "marker": {
          "color": "rgb(48, 18, 59)",
          "pattern": {
           "shape": ""
          }
         },
         "name": "Straight To Ale",
         "offsetgroup": "Straight To Ale",
         "orientation": "v",
         "showlegend": true,
         "textposition": "auto",
         "type": "bar",
         "x": [
          " Alabama"
         ],
         "xaxis": "x",
         "y": [
          446
         ],
         "yaxis": "y"
        },
        {
         "alignmentgroup": "True",
         "customdata": [
          [
           "Alaskan Brewing Company"
          ]
         ],
         "hovertemplate": "<b>State:</b> %{x}<br><b>Brewery:</b> %{customdata[0]}<br><b>Count:</b> %{y}<extra></extra>",
         "legendgroup": "Alaskan Brewing Company",
         "marker": {
          "color": "rgb(53, 32, 90)",
          "pattern": {
           "shape": ""
          }
         },
         "name": "Alaskan Brewing Company",
         "offsetgroup": "Alaskan Brewing Company",
         "orientation": "v",
         "showlegend": true,
         "textposition": "auto",
         "type": "bar",
         "x": [
          " Alaska"
         ],
         "xaxis": "x",
         "y": [
          2563
         ],
         "yaxis": "y"
        },
        {
         "alignmentgroup": "True",
         "customdata": [
          [
           "SanTan Brewing Company"
          ]
         ],
         "hovertemplate": "<b>State:</b> %{x}<br><b>Brewery:</b> %{customdata[0]}<br><b>Count:</b> %{y}<extra></extra>",
         "legendgroup": "SanTan Brewing Company",
         "marker": {
          "color": "rgb(58, 47, 122)",
          "pattern": {
           "shape": ""
          }
         },
         "name": "SanTan Brewing Company",
         "offsetgroup": "SanTan Brewing Company",
         "orientation": "v",
         "showlegend": true,
         "textposition": "auto",
         "type": "bar",
         "x": [
          " Arizona"
         ],
         "xaxis": "x",
         "y": [
          562
         ],
         "yaxis": "y"
        },
        {
         "alignmentgroup": "True",
         "customdata": [
          [
           "Diamond Bear Brewing Company"
          ]
         ],
         "hovertemplate": "<b>State:</b> %{x}<br><b>Brewery:</b> %{customdata[0]}<br><b>Count:</b> %{y}<extra></extra>",
         "legendgroup": "Diamond Bear Brewing Company",
         "marker": {
          "color": "rgb(62, 61, 153)",
          "pattern": {
           "shape": ""
          }
         },
         "name": "Diamond Bear Brewing Company",
         "offsetgroup": "Diamond Bear Brewing Company",
         "orientation": "v",
         "showlegend": true,
         "textposition": "auto",
         "type": "bar",
         "x": [
          " Arkansas"
         ],
         "xaxis": "x",
         "y": [
          535
         ],
         "yaxis": "y"
        },
        {
         "alignmentgroup": "True",
         "customdata": [
          [
           "Russian River Brewing"
          ]
         ],
         "hovertemplate": "<b>State:</b> %{x}<br><b>Brewery:</b> %{customdata[0]}<br><b>Count:</b> %{y}<extra></extra>",
         "legendgroup": "Russian River Brewing",
         "marker": {
          "color": "rgb(66, 75, 179)",
          "pattern": {
           "shape": ""
          }
         },
         "name": "Russian River Brewing",
         "offsetgroup": "Russian River Brewing",
         "orientation": "v",
         "showlegend": true,
         "textposition": "auto",
         "type": "bar",
         "x": [
          " California"
         ],
         "xaxis": "x",
         "y": [
          6143
         ],
         "yaxis": "y"
        },
        {
         "alignmentgroup": "True",
         "customdata": [
          [
           "Great Divide Brewing Company"
          ]
         ],
         "hovertemplate": "<b>State:</b> %{x}<br><b>Brewery:</b> %{customdata[0]}<br><b>Count:</b> %{y}<extra></extra>",
         "legendgroup": "Great Divide Brewing Company",
         "marker": {
          "color": "rgb(67, 88, 197)",
          "pattern": {
           "shape": ""
          }
         },
         "name": "Great Divide Brewing Company",
         "offsetgroup": "Great Divide Brewing Company",
         "orientation": "v",
         "showlegend": true,
         "textposition": "auto",
         "type": "bar",
         "x": [
          " Colorado"
         ],
         "xaxis": "x",
         "y": [
          7548
         ],
         "yaxis": "y"
        },
        {
         "alignmentgroup": "True",
         "customdata": [
          [
           "Two Roads Brewing Company"
          ]
         ],
         "hovertemplate": "<b>State:</b> %{x}<br><b>Brewery:</b> %{customdata[0]}<br><b>Count:</b> %{y}<extra></extra>",
         "legendgroup": "Two Roads Brewing Company",
         "marker": {
          "color": "rgb(68, 102, 216)",
          "pattern": {
           "shape": ""
          }
         },
         "name": "Two Roads Brewing Company",
         "offsetgroup": "Two Roads Brewing Company",
         "orientation": "v",
         "showlegend": true,
         "textposition": "auto",
         "type": "bar",
         "x": [
          " Connecticut"
         ],
         "xaxis": "x",
         "y": [
          1443
         ],
         "yaxis": "y"
        },
        {
         "alignmentgroup": "True",
         "customdata": [
          [
           "16 Mile Brewing Company"
          ]
         ],
         "hovertemplate": "<b>State:</b> %{x}<br><b>Brewery:</b> %{customdata[0]}<br><b>Count:</b> %{y}<extra></extra>",
         "legendgroup": "16 Mile Brewing Company",
         "marker": {
          "color": "rgb(70, 115, 234)",
          "pattern": {
           "shape": ""
          }
         },
         "name": "16 Mile Brewing Company",
         "offsetgroup": "16 Mile Brewing Company",
         "orientation": "v",
         "showlegend": true,
         "textposition": "auto",
         "type": "bar",
         "x": [
          " Delaware"
         ],
         "xaxis": "x",
         "y": [
          341
         ],
         "yaxis": "y"
        },
        {
         "alignmentgroup": "True",
         "customdata": [
          [
           "Florida Beer Company"
          ]
         ],
         "hovertemplate": "<b>State:</b> %{x}<br><b>Brewery:</b> %{customdata[0]}<br><b>Count:</b> %{y}<extra></extra>",
         "legendgroup": "Florida Beer Company",
         "marker": {
          "color": "rgb(67, 128, 241)",
          "pattern": {
           "shape": ""
          }
         },
         "name": "Florida Beer Company",
         "offsetgroup": "Florida Beer Company",
         "orientation": "v",
         "showlegend": true,
         "textposition": "auto",
         "type": "bar",
         "x": [
          " Florida"
         ],
         "xaxis": "x",
         "y": [
          752
         ],
         "yaxis": "y"
        },
        {
         "alignmentgroup": "True",
         "customdata": [
          [
           "Terrapin Beer Company"
          ]
         ],
         "hovertemplate": "<b>State:</b> %{x}<br><b>Brewery:</b> %{customdata[0]}<br><b>Count:</b> %{y}<extra></extra>",
         "legendgroup": "Terrapin Beer Company",
         "marker": {
          "color": "rgb(63, 140, 245)",
          "pattern": {
           "shape": ""
          }
         },
         "name": "Terrapin Beer Company",
         "offsetgroup": "Terrapin Beer Company",
         "orientation": "v",
         "showlegend": true,
         "textposition": "auto",
         "type": "bar",
         "x": [
          " Georgia"
         ],
         "xaxis": "x",
         "y": [
          2630
         ],
         "yaxis": "y"
        },
        {
         "alignmentgroup": "True",
         "customdata": [
          [
           "Kona Brewing Company"
          ]
         ],
         "hovertemplate": "<b>State:</b> %{x}<br><b>Brewery:</b> %{customdata[0]}<br><b>Count:</b> %{y}<extra></extra>",
         "legendgroup": "Kona Brewing Company",
         "marker": {
          "color": "rgb(60, 153, 249)",
          "pattern": {
           "shape": ""
          }
         },
         "name": "Kona Brewing Company",
         "offsetgroup": "Kona Brewing Company",
         "orientation": "v",
         "showlegend": true,
         "textposition": "auto",
         "type": "bar",
         "x": [
          " Hawaii"
         ],
         "xaxis": "x",
         "y": [
          2453
         ],
         "yaxis": "y"
        },
        {
         "alignmentgroup": "True",
         "customdata": [
          [
           "Laughing Dog Brewing"
          ]
         ],
         "hovertemplate": "<b>State:</b> %{x}<br><b>Brewery:</b> %{customdata[0]}<br><b>Count:</b> %{y}<extra></extra>",
         "legendgroup": "Laughing Dog Brewing",
         "marker": {
          "color": "rgb(55, 166, 249)",
          "pattern": {
           "shape": ""
          }
         },
         "name": "Laughing Dog Brewing",
         "offsetgroup": "Laughing Dog Brewing",
         "orientation": "v",
         "showlegend": true,
         "textposition": "auto",
         "type": "bar",
         "x": [
          " Idaho"
         ],
         "xaxis": "x",
         "y": [
          2307
         ],
         "yaxis": "y"
        },
        {
         "alignmentgroup": "True",
         "customdata": [
          [
           "Pipeworks Brewing Company"
          ]
         ],
         "hovertemplate": "<b>State:</b> %{x}<br><b>Brewery:</b> %{customdata[0]}<br><b>Count:</b> %{y}<extra></extra>",
         "legendgroup": "Pipeworks Brewing Company",
         "marker": {
          "color": "rgb(46, 178, 238)",
          "pattern": {
           "shape": ""
          }
         },
         "name": "Pipeworks Brewing Company",
         "offsetgroup": "Pipeworks Brewing Company",
         "orientation": "v",
         "showlegend": true,
         "textposition": "auto",
         "type": "bar",
         "x": [
          " Illinois"
         ],
         "xaxis": "x",
         "y": [
          4233
         ],
         "yaxis": "y"
        },
        {
         "alignmentgroup": "True",
         "customdata": [
          [
           "Upland Brewing Company"
          ]
         ],
         "hovertemplate": "<b>State:</b> %{x}<br><b>Brewery:</b> %{customdata[0]}<br><b>Count:</b> %{y}<extra></extra>",
         "legendgroup": "Upland Brewing Company",
         "marker": {
          "color": "rgb(38, 191, 226)",
          "pattern": {
           "shape": ""
          }
         },
         "name": "Upland Brewing Company",
         "offsetgroup": "Upland Brewing Company",
         "orientation": "v",
         "showlegend": true,
         "textposition": "auto",
         "type": "bar",
         "x": [
          " Indiana"
         ],
         "xaxis": "x",
         "y": [
          858
         ],
         "yaxis": "y"
        },
        {
         "alignmentgroup": "True",
         "customdata": [
          [
           "Toppling Goliath Brewing Company"
          ]
         ],
         "hovertemplate": "<b>State:</b> %{x}<br><b>Brewery:</b> %{customdata[0]}<br><b>Count:</b> %{y}<extra></extra>",
         "legendgroup": "Toppling Goliath Brewing Company",
         "marker": {
          "color": "rgb(29, 203, 215)",
          "pattern": {
           "shape": ""
          }
         },
         "name": "Toppling Goliath Brewing Company",
         "offsetgroup": "Toppling Goliath Brewing Company",
         "orientation": "v",
         "showlegend": true,
         "textposition": "auto",
         "type": "bar",
         "x": [
          " Iowa"
         ],
         "xaxis": "x",
         "y": [
          1408
         ],
         "yaxis": "y"
        },
        {
         "alignmentgroup": "True",
         "customdata": [
          [
           "Tallgrass Brewing Company"
          ]
         ],
         "hovertemplate": "<b>State:</b> %{x}<br><b>Brewery:</b> %{customdata[0]}<br><b>Count:</b> %{y}<extra></extra>",
         "legendgroup": "Tallgrass Brewing Company",
         "marker": {
          "color": "rgb(29, 213, 203)",
          "pattern": {
           "shape": ""
          }
         },
         "name": "Tallgrass Brewing Company",
         "offsetgroup": "Tallgrass Brewing Company",
         "orientation": "v",
         "showlegend": true,
         "textposition": "auto",
         "type": "bar",
         "x": [
          " Kansas"
         ],
         "xaxis": "x",
         "y": [
          2254
         ],
         "yaxis": "y"
        },
        {
         "alignmentgroup": "True",
         "customdata": [
          [
           "Alltech Lexington Brewing And Distilling"
          ]
         ],
         "hovertemplate": "<b>State:</b> %{x}<br><b>Brewery:</b> %{customdata[0]}<br><b>Count:</b> %{y}<extra></extra>",
         "legendgroup": "Alltech Lexington Brewing And Distilling",
         "marker": {
          "color": "rgb(31, 221, 190)",
          "pattern": {
           "shape": ""
          }
         },
         "name": "Alltech Lexington Brewing And Distilling",
         "offsetgroup": "Alltech Lexington Brewing And Distilling",
         "orientation": "v",
         "showlegend": true,
         "textposition": "auto",
         "type": "bar",
         "x": [
          " Kentucky"
         ],
         "xaxis": "x",
         "y": [
          823
         ],
         "yaxis": "y"
        },
        {
         "alignmentgroup": "True",
         "customdata": [
          [
           "Abita Brewing Company"
          ]
         ],
         "hovertemplate": "<b>State:</b> %{x}<br><b>Brewery:</b> %{customdata[0]}<br><b>Count:</b> %{y}<extra></extra>",
         "legendgroup": "Abita Brewing Company",
         "marker": {
          "color": "rgb(34, 229, 177)",
          "pattern": {
           "shape": ""
          }
         },
         "name": "Abita Brewing Company",
         "offsetgroup": "Abita Brewing Company",
         "orientation": "v",
         "showlegend": true,
         "textposition": "auto",
         "type": "bar",
         "x": [
          " Louisiana"
         ],
         "xaxis": "x",
         "y": [
          3379
         ],
         "yaxis": "y"
        },
        {
         "alignmentgroup": "True",
         "customdata": [
          [
           "Allagash Brewing Company"
          ]
         ],
         "hovertemplate": "<b>State:</b> %{x}<br><b>Brewery:</b> %{customdata[0]}<br><b>Count:</b> %{y}<extra></extra>",
         "legendgroup": "Allagash Brewing Company",
         "marker": {
          "color": "rgb(38, 237, 164)",
          "pattern": {
           "shape": ""
          }
         },
         "name": "Allagash Brewing Company",
         "offsetgroup": "Allagash Brewing Company",
         "orientation": "v",
         "showlegend": true,
         "textposition": "auto",
         "type": "bar",
         "x": [
          " Maine"
         ],
         "xaxis": "x",
         "y": [
          7261
         ],
         "yaxis": "y"
        },
        {
         "alignmentgroup": "True",
         "customdata": [
          [
           "DuClaw Brewing Company"
          ]
         ],
         "hovertemplate": "<b>State:</b> %{x}<br><b>Brewery:</b> %{customdata[0]}<br><b>Count:</b> %{y}<extra></extra>",
         "legendgroup": "DuClaw Brewing Company",
         "marker": {
          "color": "rgb(56, 241, 147)",
          "pattern": {
           "shape": ""
          }
         },
         "name": "DuClaw Brewing Company",
         "offsetgroup": "DuClaw Brewing Company",
         "orientation": "v",
         "showlegend": true,
         "textposition": "auto",
         "type": "bar",
         "x": [
          " Maryland"
         ],
         "xaxis": "x",
         "y": [
          1578
         ],
         "yaxis": "y"
        },
        {
         "alignmentgroup": "True",
         "customdata": [
          [
           "Night Shift Brewing"
          ]
         ],
         "hovertemplate": "<b>State:</b> %{x}<br><b>Brewery:</b> %{customdata[0]}<br><b>Count:</b> %{y}<extra></extra>",
         "legendgroup": "Night Shift Brewing",
         "marker": {
          "color": "rgb(73, 246, 131)",
          "pattern": {
           "shape": ""
          }
         },
         "name": "Night Shift Brewing",
         "offsetgroup": "Night Shift Brewing",
         "orientation": "v",
         "showlegend": true,
         "textposition": "auto",
         "type": "bar",
         "x": [
          " Massachusetts"
         ],
         "xaxis": "x",
         "y": [
          1846
         ],
         "yaxis": "y"
        },
        {
         "alignmentgroup": "True",
         "customdata": [
          [
           "Jolly Pumpkin Artisan Ales"
          ]
         ],
         "hovertemplate": "<b>State:</b> %{x}<br><b>Brewery:</b> %{customdata[0]}<br><b>Count:</b> %{y}<extra></extra>",
         "legendgroup": "Jolly Pumpkin Artisan Ales",
         "marker": {
          "color": "rgb(90, 250, 115)",
          "pattern": {
           "shape": ""
          }
         },
         "name": "Jolly Pumpkin Artisan Ales",
         "offsetgroup": "Jolly Pumpkin Artisan Ales",
         "orientation": "v",
         "showlegend": true,
         "textposition": "auto",
         "type": "bar",
         "x": [
          " Michigan"
         ],
         "xaxis": "x",
         "y": [
          6108
         ],
         "yaxis": "y"
        },
        {
         "alignmentgroup": "True",
         "customdata": [
          [
           "Summit Brewing Company"
          ]
         ],
         "hovertemplate": "<b>State:</b> %{x}<br><b>Brewery:</b> %{customdata[0]}<br><b>Count:</b> %{y}<extra></extra>",
         "legendgroup": "Summit Brewing Company",
         "marker": {
          "color": "rgb(108, 252, 100)",
          "pattern": {
           "shape": ""
          }
         },
         "name": "Summit Brewing Company",
         "offsetgroup": "Summit Brewing Company",
         "orientation": "v",
         "showlegend": true,
         "textposition": "auto",
         "type": "bar",
         "x": [
          " Minnesota"
         ],
         "xaxis": "x",
         "y": [
          3072
         ],
         "yaxis": "y"
        },
        {
         "alignmentgroup": "True",
         "customdata": [
          [
           "Lazy Magnolia Brewing Company"
          ]
         ],
         "hovertemplate": "<b>State:</b> %{x}<br><b>Brewery:</b> %{customdata[0]}<br><b>Count:</b> %{y}<extra></extra>",
         "legendgroup": "Lazy Magnolia Brewing Company",
         "marker": {
          "color": "rgb(126, 252, 86)",
          "pattern": {
           "shape": ""
          }
         },
         "name": "Lazy Magnolia Brewing Company",
         "offsetgroup": "Lazy Magnolia Brewing Company",
         "orientation": "v",
         "showlegend": true,
         "textposition": "auto",
         "type": "bar",
         "x": [
          " Mississippi"
         ],
         "xaxis": "x",
         "y": [
          1486
         ],
         "yaxis": "y"
        },
        {
         "alignmentgroup": "True",
         "customdata": [
          [
           "Perennial Artisan Ales"
          ]
         ],
         "hovertemplate": "<b>State:</b> %{x}<br><b>Brewery:</b> %{customdata[0]}<br><b>Count:</b> %{y}<extra></extra>",
         "legendgroup": "Perennial Artisan Ales",
         "marker": {
          "color": "rgb(145, 252, 73)",
          "pattern": {
           "shape": ""
          }
         },
         "name": "Perennial Artisan Ales",
         "offsetgroup": "Perennial Artisan Ales",
         "orientation": "v",
         "showlegend": true,
         "textposition": "auto",
         "type": "bar",
         "x": [
          " Missouri"
         ],
         "xaxis": "x",
         "y": [
          1401
         ],
         "yaxis": "y"
        },
        {
         "alignmentgroup": "True",
         "customdata": [
          [
           "Big Sky Brewing Company"
          ]
         ],
         "hovertemplate": "<b>State:</b> %{x}<br><b>Brewery:</b> %{customdata[0]}<br><b>Count:</b> %{y}<extra></extra>",
         "legendgroup": "Big Sky Brewing Company",
         "marker": {
          "color": "rgb(164, 252, 59)",
          "pattern": {
           "shape": ""
          }
         },
         "name": "Big Sky Brewing Company",
         "offsetgroup": "Big Sky Brewing Company",
         "orientation": "v",
         "showlegend": true,
         "textposition": "auto",
         "type": "bar",
         "x": [
          " Montana"
         ],
         "xaxis": "x",
         "y": [
          1885
         ],
         "yaxis": "y"
        },
        {
         "alignmentgroup": "True",
         "customdata": [
          [
           "Nebraska Brewing Company"
          ]
         ],
         "hovertemplate": "<b>State:</b> %{x}<br><b>Brewery:</b> %{customdata[0]}<br><b>Count:</b> %{y}<extra></extra>",
         "legendgroup": "Nebraska Brewing Company",
         "marker": {
          "color": "rgb(177, 246, 57)",
          "pattern": {
           "shape": ""
          }
         },
         "name": "Nebraska Brewing Company",
         "offsetgroup": "Nebraska Brewing Company",
         "orientation": "v",
         "showlegend": true,
         "textposition": "auto",
         "type": "bar",
         "x": [
          " Nebraska"
         ],
         "xaxis": "x",
         "y": [
          658
         ],
         "yaxis": "y"
        },
        {
         "alignmentgroup": "True",
         "customdata": [
          [
           "Buckbean Brewing Company"
          ]
         ],
         "hovertemplate": "<b>State:</b> %{x}<br><b>Brewery:</b> %{customdata[0]}<br><b>Count:</b> %{y}<extra></extra>",
         "legendgroup": "Buckbean Brewing Company",
         "marker": {
          "color": "rgb(189, 241, 55)",
          "pattern": {
           "shape": ""
          }
         },
         "name": "Buckbean Brewing Company",
         "offsetgroup": "Buckbean Brewing Company",
         "orientation": "v",
         "showlegend": true,
         "textposition": "auto",
         "type": "bar",
         "x": [
          " Nevada"
         ],
         "xaxis": "x",
         "y": [
          484
         ],
         "yaxis": "y"
        },
        {
         "alignmentgroup": "True",
         "customdata": [
          [
           "Smuttynose Brewing Company"
          ]
         ],
         "hovertemplate": "<b>State:</b> %{x}<br><b>Brewery:</b> %{customdata[0]}<br><b>Count:</b> %{y}<extra></extra>",
         "legendgroup": "Smuttynose Brewing Company",
         "marker": {
          "color": "rgb(202, 235, 53)",
          "pattern": {
           "shape": ""
          }
         },
         "name": "Smuttynose Brewing Company",
         "offsetgroup": "Smuttynose Brewing Company",
         "orientation": "v",
         "showlegend": true,
         "textposition": "auto",
         "type": "bar",
         "x": [
          " New Hampshire"
         ],
         "xaxis": "x",
         "y": [
          1715
         ],
         "yaxis": "y"
        },
        {
         "alignmentgroup": "True",
         "customdata": [
          [
           "Heavyweight Brewing Company"
          ]
         ],
         "hovertemplate": "<b>State:</b> %{x}<br><b>Brewery:</b> %{customdata[0]}<br><b>Count:</b> %{y}<extra></extra>",
         "legendgroup": "Heavyweight Brewing Company",
         "marker": {
          "color": "rgb(213, 228, 53)",
          "pattern": {
           "shape": ""
          }
         },
         "name": "Heavyweight Brewing Company",
         "offsetgroup": "Heavyweight Brewing Company",
         "orientation": "v",
         "showlegend": true,
         "textposition": "auto",
         "type": "bar",
         "x": [
          " New Jersey"
         ],
         "xaxis": "x",
         "y": [
          1477
         ],
         "yaxis": "y"
        },
        {
         "alignmentgroup": "True",
         "customdata": [
          [
           "La Cumbre Brewing Company"
          ]
         ],
         "hovertemplate": "<b>State:</b> %{x}<br><b>Brewery:</b> %{customdata[0]}<br><b>Count:</b> %{y}<extra></extra>",
         "legendgroup": "La Cumbre Brewing Company",
         "marker": {
          "color": "rgb(223, 218, 54)",
          "pattern": {
           "shape": ""
          }
         },
         "name": "La Cumbre Brewing Company",
         "offsetgroup": "La Cumbre Brewing Company",
         "orientation": "v",
         "showlegend": true,
         "textposition": "auto",
         "type": "bar",
         "x": [
          " New Mexico"
         ],
         "xaxis": "x",
         "y": [
          428
         ],
         "yaxis": "y"
        },
        {
         "alignmentgroup": "True",
         "customdata": [
          [
           "Brooklyn Brewery"
          ]
         ],
         "hovertemplate": "<b>State:</b> %{x}<br><b>Brewery:</b> %{customdata[0]}<br><b>Count:</b> %{y}<extra></extra>",
         "legendgroup": "Brooklyn Brewery",
         "marker": {
          "color": "rgb(232, 209, 56)",
          "pattern": {
           "shape": ""
          }
         },
         "name": "Brooklyn Brewery",
         "offsetgroup": "Brooklyn Brewery",
         "orientation": "v",
         "showlegend": true,
         "textposition": "auto",
         "type": "bar",
         "x": [
          " New York"
         ],
         "xaxis": "x",
         "y": [
          14508
         ],
         "yaxis": "y"
        },
        {
         "alignmentgroup": "True",
         "customdata": [
          [
           "The Duck-Rabbit Craft Brewery"
          ]
         ],
         "hovertemplate": "<b>State:</b> %{x}<br><b>Brewery:</b> %{customdata[0]}<br><b>Count:</b> %{y}<extra></extra>",
         "legendgroup": "The Duck-Rabbit Craft Brewery",
         "marker": {
          "color": "rgb(242, 199, 58)",
          "pattern": {
           "shape": ""
          }
         },
         "name": "The Duck-Rabbit Craft Brewery",
         "offsetgroup": "The Duck-Rabbit Craft Brewery",
         "orientation": "v",
         "showlegend": true,
         "textposition": "auto",
         "type": "bar",
         "x": [
          " North Carolina"
         ],
         "xaxis": "x",
         "y": [
          2374
         ],
         "yaxis": "y"
        },
        {
         "alignmentgroup": "True",
         "customdata": [
          [
           "Drekker Brewing Company"
          ]
         ],
         "hovertemplate": "<b>State:</b> %{x}<br><b>Brewery:</b> %{customdata[0]}<br><b>Count:</b> %{y}<extra></extra>",
         "legendgroup": "Drekker Brewing Company",
         "marker": {
          "color": "rgb(246, 188, 55)",
          "pattern": {
           "shape": ""
          }
         },
         "name": "Drekker Brewing Company",
         "offsetgroup": "Drekker Brewing Company",
         "orientation": "v",
         "showlegend": true,
         "textposition": "auto",
         "type": "bar",
         "x": [
          " North Dakota"
         ],
         "xaxis": "x",
         "y": [
          33
         ],
         "yaxis": "y"
        },
        {
         "alignmentgroup": "True",
         "customdata": [
          [
           "Hoppin Frog Brewery"
          ]
         ],
         "hovertemplate": "<b>State:</b> %{x}<br><b>Brewery:</b> %{customdata[0]}<br><b>Count:</b> %{y}<extra></extra>",
         "legendgroup": "Hoppin Frog Brewery",
         "marker": {
          "color": "rgb(249, 176, 51)",
          "pattern": {
           "shape": ""
          }
         },
         "name": "Hoppin Frog Brewery",
         "offsetgroup": "Hoppin Frog Brewery",
         "orientation": "v",
         "showlegend": true,
         "textposition": "auto",
         "type": "bar",
         "x": [
          " Ohio"
         ],
         "xaxis": "x",
         "y": [
          3226
         ],
         "yaxis": "y"
        },
        {
         "alignmentgroup": "True",
         "customdata": [
          [
           "Prairie Artisan Ales"
          ]
         ],
         "hovertemplate": "<b>State:</b> %{x}<br><b>Brewery:</b> %{customdata[0]}<br><b>Count:</b> %{y}<extra></extra>",
         "legendgroup": "Prairie Artisan Ales",
         "marker": {
          "color": "rgb(252, 164, 48)",
          "pattern": {
           "shape": ""
          }
         },
         "name": "Prairie Artisan Ales",
         "offsetgroup": "Prairie Artisan Ales",
         "orientation": "v",
         "showlegend": true,
         "textposition": "auto",
         "type": "bar",
         "x": [
          " Oklahoma"
         ],
         "xaxis": "x",
         "y": [
          1402
         ],
         "yaxis": "y"
        },
        {
         "alignmentgroup": "True",
         "customdata": [
          [
           "Rogue Ales"
          ]
         ],
         "hovertemplate": "<b>State:</b> %{x}<br><b>Brewery:</b> %{customdata[0]}<br><b>Count:</b> %{y}<extra></extra>",
         "legendgroup": "Rogue Ales",
         "marker": {
          "color": "rgb(253, 151, 43)",
          "pattern": {
           "shape": ""
          }
         },
         "name": "Rogue Ales",
         "offsetgroup": "Rogue Ales",
         "orientation": "v",
         "showlegend": true,
         "textposition": "auto",
         "type": "bar",
         "x": [
          " Oregon"
         ],
         "xaxis": "x",
         "y": [
          6257
         ],
         "yaxis": "y"
        },
        {
         "alignmentgroup": "True",
         "customdata": [
          [
           "Weyerbacher Brewing Co."
          ]
         ],
         "hovertemplate": "<b>State:</b> %{x}<br><b>Brewery:</b> %{customdata[0]}<br><b>Count:</b> %{y}<extra></extra>",
         "legendgroup": "Weyerbacher Brewing Co.",
         "marker": {
          "color": "rgb(250, 135, 36)",
          "pattern": {
           "shape": ""
          }
         },
         "name": "Weyerbacher Brewing Co.",
         "offsetgroup": "Weyerbacher Brewing Co.",
         "orientation": "v",
         "showlegend": true,
         "textposition": "auto",
         "type": "bar",
         "x": [
          " Pennsylvania"
         ],
         "xaxis": "x",
         "y": [
          12984
         ],
         "yaxis": "y"
        },
        {
         "alignmentgroup": "True",
         "customdata": [
          [
           "Coastal Extreme Brewing Company"
          ]
         ],
         "hovertemplate": "<b>State:</b> %{x}<br><b>Brewery:</b> %{customdata[0]}<br><b>Count:</b> %{y}<extra></extra>",
         "legendgroup": "Coastal Extreme Brewing Company",
         "marker": {
          "color": "rgb(247, 119, 30)",
          "pattern": {
           "shape": ""
          }
         },
         "name": "Coastal Extreme Brewing Company",
         "offsetgroup": "Coastal Extreme Brewing Company",
         "orientation": "v",
         "showlegend": true,
         "textposition": "auto",
         "type": "bar",
         "x": [
          " Rhode Island"
         ],
         "xaxis": "x",
         "y": [
          1167
         ],
         "yaxis": "y"
        },
        {
         "alignmentgroup": "True",
         "customdata": [
          [
           "Westbrook Brewing"
          ]
         ],
         "hovertemplate": "<b>State:</b> %{x}<br><b>Brewery:</b> %{customdata[0]}<br><b>Count:</b> %{y}<extra></extra>",
         "legendgroup": "Westbrook Brewing",
         "marker": {
          "color": "rgb(244, 103, 23)",
          "pattern": {
           "shape": ""
          }
         },
         "name": "Westbrook Brewing",
         "offsetgroup": "Westbrook Brewing",
         "orientation": "v",
         "showlegend": true,
         "textposition": "auto",
         "type": "bar",
         "x": [
          " South Carolina"
         ],
         "xaxis": "x",
         "y": [
          1355
         ],
         "yaxis": "y"
        },
        {
         "alignmentgroup": "True",
         "customdata": [
          [
           "Sick N Twisted Brewing Company"
          ]
         ],
         "hovertemplate": "<b>State:</b> %{x}<br><b>Brewery:</b> %{customdata[0]}<br><b>Count:</b> %{y}<extra></extra>",
         "legendgroup": "Sick N Twisted Brewing Company",
         "marker": {
          "color": "rgb(238, 90, 18)",
          "pattern": {
           "shape": ""
          }
         },
         "name": "Sick N Twisted Brewing Company",
         "offsetgroup": "Sick N Twisted Brewing Company",
         "orientation": "v",
         "showlegend": true,
         "textposition": "auto",
         "type": "bar",
         "x": [
          " South Dakota"
         ],
         "xaxis": "x",
         "y": [
          43
         ],
         "yaxis": "y"
        },
        {
         "alignmentgroup": "True",
         "customdata": [
          [
           "Yazoo Brewing Company"
          ]
         ],
         "hovertemplate": "<b>State:</b> %{x}<br><b>Brewery:</b> %{customdata[0]}<br><b>Count:</b> %{y}<extra></extra>",
         "legendgroup": "Yazoo Brewing Company",
         "marker": {
          "color": "rgb(231, 78, 14)",
          "pattern": {
           "shape": ""
          }
         },
         "name": "Yazoo Brewing Company",
         "offsetgroup": "Yazoo Brewing Company",
         "orientation": "v",
         "showlegend": true,
         "textposition": "auto",
         "type": "bar",
         "x": [
          " Tennessee"
         ],
         "xaxis": "x",
         "y": [
          631
         ],
         "yaxis": "y"
        },
        {
         "alignmentgroup": "True",
         "customdata": [
          [
           "Real Ale Brewing Company"
          ]
         ],
         "hovertemplate": "<b>State:</b> %{x}<br><b>Brewery:</b> %{customdata[0]}<br><b>Count:</b> %{y}<extra></extra>",
         "legendgroup": "Real Ale Brewing Company",
         "marker": {
          "color": "rgb(223, 66, 10)",
          "pattern": {
           "shape": ""
          }
         },
         "name": "Real Ale Brewing Company",
         "offsetgroup": "Real Ale Brewing Company",
         "orientation": "v",
         "showlegend": true,
         "textposition": "auto",
         "type": "bar",
         "x": [
          " Texas"
         ],
         "xaxis": "x",
         "y": [
          2758
         ],
         "yaxis": "y"
        },
        {
         "alignmentgroup": "True",
         "customdata": [
          [
           "Uinta Brewing Company"
          ]
         ],
         "hovertemplate": "<b>State:</b> %{x}<br><b>Brewery:</b> %{customdata[0]}<br><b>Count:</b> %{y}<extra></extra>",
         "legendgroup": "Uinta Brewing Company",
         "marker": {
          "color": "rgb(215, 55, 6)",
          "pattern": {
           "shape": ""
          }
         },
         "name": "Uinta Brewing Company",
         "offsetgroup": "Uinta Brewing Company",
         "orientation": "v",
         "showlegend": true,
         "textposition": "auto",
         "type": "bar",
         "x": [
          " Utah"
         ],
         "xaxis": "x",
         "y": [
          7810
         ],
         "yaxis": "y"
        },
        {
         "alignmentgroup": "True",
         "customdata": [
          [
           "Hill Farmstead Brewery"
          ]
         ],
         "hovertemplate": "<b>State:</b> %{x}<br><b>Brewery:</b> %{customdata[0]}<br><b>Count:</b> %{y}<extra></extra>",
         "legendgroup": "Hill Farmstead Brewery",
         "marker": {
          "color": "rgb(204, 46, 4)",
          "pattern": {
           "shape": ""
          }
         },
         "name": "Hill Farmstead Brewery",
         "offsetgroup": "Hill Farmstead Brewery",
         "orientation": "v",
         "showlegend": true,
         "textposition": "auto",
         "type": "bar",
         "x": [
          " Vermont"
         ],
         "xaxis": "x",
         "y": [
          4605
         ],
         "yaxis": "y"
        },
        {
         "alignmentgroup": "True",
         "customdata": [
          [
           "Hardywood Park Craft Brewery"
          ]
         ],
         "hovertemplate": "<b>State:</b> %{x}<br><b>Brewery:</b> %{customdata[0]}<br><b>Count:</b> %{y}<extra></extra>",
         "legendgroup": "Hardywood Park Craft Brewery",
         "marker": {
          "color": "rgb(193, 37, 3)",
          "pattern": {
           "shape": ""
          }
         },
         "name": "Hardywood Park Craft Brewery",
         "offsetgroup": "Hardywood Park Craft Brewery",
         "orientation": "v",
         "showlegend": true,
         "textposition": "auto",
         "type": "bar",
         "x": [
          " Virginia"
         ],
         "xaxis": "x",
         "y": [
          1036
         ],
         "yaxis": "y"
        },
        {
         "alignmentgroup": "True",
         "customdata": [
          [
           "Fremont Brewing Company"
          ]
         ],
         "hovertemplate": "<b>State:</b> %{x}<br><b>Brewery:</b> %{customdata[0]}<br><b>Count:</b> %{y}<extra></extra>",
         "legendgroup": "Fremont Brewing Company",
         "marker": {
          "color": "rgb(182, 29, 2)",
          "pattern": {
           "shape": ""
          }
         },
         "name": "Fremont Brewing Company",
         "offsetgroup": "Fremont Brewing Company",
         "orientation": "v",
         "showlegend": true,
         "textposition": "auto",
         "type": "bar",
         "x": [
          " Washington"
         ],
         "xaxis": "x",
         "y": [
          642
         ],
         "yaxis": "y"
        },
        {
         "alignmentgroup": "True",
         "customdata": [
          [
           "Mountain State Brewing Co."
          ]
         ],
         "hovertemplate": "<b>State:</b> %{x}<br><b>Brewery:</b> %{customdata[0]}<br><b>Count:</b> %{y}<extra></extra>",
         "legendgroup": "Mountain State Brewing Co.",
         "marker": {
          "color": "rgb(168, 22, 1)",
          "pattern": {
           "shape": ""
          }
         },
         "name": "Mountain State Brewing Co.",
         "offsetgroup": "Mountain State Brewing Co.",
         "orientation": "v",
         "showlegend": true,
         "textposition": "auto",
         "type": "bar",
         "x": [
          " West Virginia"
         ],
         "xaxis": "x",
         "y": [
          191
         ],
         "yaxis": "y"
        },
        {
         "alignmentgroup": "True",
         "customdata": [
          [
           "Central Waters Brewing Co."
          ]
         ],
         "hovertemplate": "<b>State:</b> %{x}<br><b>Brewery:</b> %{customdata[0]}<br><b>Count:</b> %{y}<extra></extra>",
         "legendgroup": "Central Waters Brewing Co.",
         "marker": {
          "color": "rgb(153, 16, 1)",
          "pattern": {
           "shape": ""
          }
         },
         "name": "Central Waters Brewing Co.",
         "offsetgroup": "Central Waters Brewing Co.",
         "orientation": "v",
         "showlegend": true,
         "textposition": "auto",
         "type": "bar",
         "x": [
          " Wisconsin"
         ],
         "xaxis": "x",
         "y": [
          2478
         ],
         "yaxis": "y"
        },
        {
         "alignmentgroup": "True",
         "customdata": [
          [
           "Melvin Brewing Company &#40;Thai Me Up&#41;"
          ]
         ],
         "hovertemplate": "<b>State:</b> %{x}<br><b>Brewery:</b> %{customdata[0]}<br><b>Count:</b> %{y}<extra></extra>",
         "legendgroup": "Melvin Brewing Company &#40;Thai Me Up&#41;",
         "marker": {
          "color": "rgb(137, 10, 2)",
          "pattern": {
           "shape": ""
          }
         },
         "name": "Melvin Brewing Company &#40;Thai Me Up&#41;",
         "offsetgroup": "Melvin Brewing Company &#40;Thai Me Up&#41;",
         "orientation": "v",
         "showlegend": true,
         "textposition": "auto",
         "type": "bar",
         "x": [
          " Wyoming"
         ],
         "xaxis": "x",
         "y": [
          279
         ],
         "yaxis": "y"
        }
       ],
       "layout": {
        "barmode": "relative",
        "height": 600,
        "legend": {
         "title": {
          "text": "Brewery Name"
         },
         "tracegroupgap": 0
        },
        "margin": {
         "b": 100,
         "l": 50,
         "r": 50,
         "t": 50
        },
        "template": {
         "data": {
          "bar": [
           {
            "error_x": {
             "color": "#2a3f5f"
            },
            "error_y": {
             "color": "#2a3f5f"
            },
            "marker": {
             "line": {
              "color": "#E5ECF6",
              "width": 0.5
             },
             "pattern": {
              "fillmode": "overlay",
              "size": 10,
              "solidity": 0.2
             }
            },
            "type": "bar"
           }
          ],
          "barpolar": [
           {
            "marker": {
             "line": {
              "color": "#E5ECF6",
              "width": 0.5
             },
             "pattern": {
              "fillmode": "overlay",
              "size": 10,
              "solidity": 0.2
             }
            },
            "type": "barpolar"
           }
          ],
          "carpet": [
           {
            "aaxis": {
             "endlinecolor": "#2a3f5f",
             "gridcolor": "white",
             "linecolor": "white",
             "minorgridcolor": "white",
             "startlinecolor": "#2a3f5f"
            },
            "baxis": {
             "endlinecolor": "#2a3f5f",
             "gridcolor": "white",
             "linecolor": "white",
             "minorgridcolor": "white",
             "startlinecolor": "#2a3f5f"
            },
            "type": "carpet"
           }
          ],
          "choropleth": [
           {
            "colorbar": {
             "outlinewidth": 0,
             "ticks": ""
            },
            "type": "choropleth"
           }
          ],
          "contour": [
           {
            "colorbar": {
             "outlinewidth": 0,
             "ticks": ""
            },
            "colorscale": [
             [
              0,
              "#0d0887"
             ],
             [
              0.1111111111111111,
              "#46039f"
             ],
             [
              0.2222222222222222,
              "#7201a8"
             ],
             [
              0.3333333333333333,
              "#9c179e"
             ],
             [
              0.4444444444444444,
              "#bd3786"
             ],
             [
              0.5555555555555556,
              "#d8576b"
             ],
             [
              0.6666666666666666,
              "#ed7953"
             ],
             [
              0.7777777777777778,
              "#fb9f3a"
             ],
             [
              0.8888888888888888,
              "#fdca26"
             ],
             [
              1,
              "#f0f921"
             ]
            ],
            "type": "contour"
           }
          ],
          "contourcarpet": [
           {
            "colorbar": {
             "outlinewidth": 0,
             "ticks": ""
            },
            "type": "contourcarpet"
           }
          ],
          "heatmap": [
           {
            "colorbar": {
             "outlinewidth": 0,
             "ticks": ""
            },
            "colorscale": [
             [
              0,
              "#0d0887"
             ],
             [
              0.1111111111111111,
              "#46039f"
             ],
             [
              0.2222222222222222,
              "#7201a8"
             ],
             [
              0.3333333333333333,
              "#9c179e"
             ],
             [
              0.4444444444444444,
              "#bd3786"
             ],
             [
              0.5555555555555556,
              "#d8576b"
             ],
             [
              0.6666666666666666,
              "#ed7953"
             ],
             [
              0.7777777777777778,
              "#fb9f3a"
             ],
             [
              0.8888888888888888,
              "#fdca26"
             ],
             [
              1,
              "#f0f921"
             ]
            ],
            "type": "heatmap"
           }
          ],
          "heatmapgl": [
           {
            "colorbar": {
             "outlinewidth": 0,
             "ticks": ""
            },
            "colorscale": [
             [
              0,
              "#0d0887"
             ],
             [
              0.1111111111111111,
              "#46039f"
             ],
             [
              0.2222222222222222,
              "#7201a8"
             ],
             [
              0.3333333333333333,
              "#9c179e"
             ],
             [
              0.4444444444444444,
              "#bd3786"
             ],
             [
              0.5555555555555556,
              "#d8576b"
             ],
             [
              0.6666666666666666,
              "#ed7953"
             ],
             [
              0.7777777777777778,
              "#fb9f3a"
             ],
             [
              0.8888888888888888,
              "#fdca26"
             ],
             [
              1,
              "#f0f921"
             ]
            ],
            "type": "heatmapgl"
           }
          ],
          "histogram": [
           {
            "marker": {
             "pattern": {
              "fillmode": "overlay",
              "size": 10,
              "solidity": 0.2
             }
            },
            "type": "histogram"
           }
          ],
          "histogram2d": [
           {
            "colorbar": {
             "outlinewidth": 0,
             "ticks": ""
            },
            "colorscale": [
             [
              0,
              "#0d0887"
             ],
             [
              0.1111111111111111,
              "#46039f"
             ],
             [
              0.2222222222222222,
              "#7201a8"
             ],
             [
              0.3333333333333333,
              "#9c179e"
             ],
             [
              0.4444444444444444,
              "#bd3786"
             ],
             [
              0.5555555555555556,
              "#d8576b"
             ],
             [
              0.6666666666666666,
              "#ed7953"
             ],
             [
              0.7777777777777778,
              "#fb9f3a"
             ],
             [
              0.8888888888888888,
              "#fdca26"
             ],
             [
              1,
              "#f0f921"
             ]
            ],
            "type": "histogram2d"
           }
          ],
          "histogram2dcontour": [
           {
            "colorbar": {
             "outlinewidth": 0,
             "ticks": ""
            },
            "colorscale": [
             [
              0,
              "#0d0887"
             ],
             [
              0.1111111111111111,
              "#46039f"
             ],
             [
              0.2222222222222222,
              "#7201a8"
             ],
             [
              0.3333333333333333,
              "#9c179e"
             ],
             [
              0.4444444444444444,
              "#bd3786"
             ],
             [
              0.5555555555555556,
              "#d8576b"
             ],
             [
              0.6666666666666666,
              "#ed7953"
             ],
             [
              0.7777777777777778,
              "#fb9f3a"
             ],
             [
              0.8888888888888888,
              "#fdca26"
             ],
             [
              1,
              "#f0f921"
             ]
            ],
            "type": "histogram2dcontour"
           }
          ],
          "mesh3d": [
           {
            "colorbar": {
             "outlinewidth": 0,
             "ticks": ""
            },
            "type": "mesh3d"
           }
          ],
          "parcoords": [
           {
            "line": {
             "colorbar": {
              "outlinewidth": 0,
              "ticks": ""
             }
            },
            "type": "parcoords"
           }
          ],
          "pie": [
           {
            "automargin": true,
            "type": "pie"
           }
          ],
          "scatter": [
           {
            "fillpattern": {
             "fillmode": "overlay",
             "size": 10,
             "solidity": 0.2
            },
            "type": "scatter"
           }
          ],
          "scatter3d": [
           {
            "line": {
             "colorbar": {
              "outlinewidth": 0,
              "ticks": ""
             }
            },
            "marker": {
             "colorbar": {
              "outlinewidth": 0,
              "ticks": ""
             }
            },
            "type": "scatter3d"
           }
          ],
          "scattercarpet": [
           {
            "marker": {
             "colorbar": {
              "outlinewidth": 0,
              "ticks": ""
             }
            },
            "type": "scattercarpet"
           }
          ],
          "scattergeo": [
           {
            "marker": {
             "colorbar": {
              "outlinewidth": 0,
              "ticks": ""
             }
            },
            "type": "scattergeo"
           }
          ],
          "scattergl": [
           {
            "marker": {
             "colorbar": {
              "outlinewidth": 0,
              "ticks": ""
             }
            },
            "type": "scattergl"
           }
          ],
          "scattermapbox": [
           {
            "marker": {
             "colorbar": {
              "outlinewidth": 0,
              "ticks": ""
             }
            },
            "type": "scattermapbox"
           }
          ],
          "scatterpolar": [
           {
            "marker": {
             "colorbar": {
              "outlinewidth": 0,
              "ticks": ""
             }
            },
            "type": "scatterpolar"
           }
          ],
          "scatterpolargl": [
           {
            "marker": {
             "colorbar": {
              "outlinewidth": 0,
              "ticks": ""
             }
            },
            "type": "scatterpolargl"
           }
          ],
          "scatterternary": [
           {
            "marker": {
             "colorbar": {
              "outlinewidth": 0,
              "ticks": ""
             }
            },
            "type": "scatterternary"
           }
          ],
          "surface": [
           {
            "colorbar": {
             "outlinewidth": 0,
             "ticks": ""
            },
            "colorscale": [
             [
              0,
              "#0d0887"
             ],
             [
              0.1111111111111111,
              "#46039f"
             ],
             [
              0.2222222222222222,
              "#7201a8"
             ],
             [
              0.3333333333333333,
              "#9c179e"
             ],
             [
              0.4444444444444444,
              "#bd3786"
             ],
             [
              0.5555555555555556,
              "#d8576b"
             ],
             [
              0.6666666666666666,
              "#ed7953"
             ],
             [
              0.7777777777777778,
              "#fb9f3a"
             ],
             [
              0.8888888888888888,
              "#fdca26"
             ],
             [
              1,
              "#f0f921"
             ]
            ],
            "type": "surface"
           }
          ],
          "table": [
           {
            "cells": {
             "fill": {
              "color": "#EBF0F8"
             },
             "line": {
              "color": "white"
             }
            },
            "header": {
             "fill": {
              "color": "#C8D4E3"
             },
             "line": {
              "color": "white"
             }
            },
            "type": "table"
           }
          ]
         },
         "layout": {
          "annotationdefaults": {
           "arrowcolor": "#2a3f5f",
           "arrowhead": 0,
           "arrowwidth": 1
          },
          "autotypenumbers": "strict",
          "coloraxis": {
           "colorbar": {
            "outlinewidth": 0,
            "ticks": ""
           }
          },
          "colorscale": {
           "diverging": [
            [
             0,
             "#8e0152"
            ],
            [
             0.1,
             "#c51b7d"
            ],
            [
             0.2,
             "#de77ae"
            ],
            [
             0.3,
             "#f1b6da"
            ],
            [
             0.4,
             "#fde0ef"
            ],
            [
             0.5,
             "#f7f7f7"
            ],
            [
             0.6,
             "#e6f5d0"
            ],
            [
             0.7,
             "#b8e186"
            ],
            [
             0.8,
             "#7fbc41"
            ],
            [
             0.9,
             "#4d9221"
            ],
            [
             1,
             "#276419"
            ]
           ],
           "sequential": [
            [
             0,
             "#0d0887"
            ],
            [
             0.1111111111111111,
             "#46039f"
            ],
            [
             0.2222222222222222,
             "#7201a8"
            ],
            [
             0.3333333333333333,
             "#9c179e"
            ],
            [
             0.4444444444444444,
             "#bd3786"
            ],
            [
             0.5555555555555556,
             "#d8576b"
            ],
            [
             0.6666666666666666,
             "#ed7953"
            ],
            [
             0.7777777777777778,
             "#fb9f3a"
            ],
            [
             0.8888888888888888,
             "#fdca26"
            ],
            [
             1,
             "#f0f921"
            ]
           ],
           "sequentialminus": [
            [
             0,
             "#0d0887"
            ],
            [
             0.1111111111111111,
             "#46039f"
            ],
            [
             0.2222222222222222,
             "#7201a8"
            ],
            [
             0.3333333333333333,
             "#9c179e"
            ],
            [
             0.4444444444444444,
             "#bd3786"
            ],
            [
             0.5555555555555556,
             "#d8576b"
            ],
            [
             0.6666666666666666,
             "#ed7953"
            ],
            [
             0.7777777777777778,
             "#fb9f3a"
            ],
            [
             0.8888888888888888,
             "#fdca26"
            ],
            [
             1,
             "#f0f921"
            ]
           ]
          },
          "colorway": [
           "#636efa",
           "#EF553B",
           "#00cc96",
           "#ab63fa",
           "#FFA15A",
           "#19d3f3",
           "#FF6692",
           "#B6E880",
           "#FF97FF",
           "#FECB52"
          ],
          "font": {
           "color": "#2a3f5f"
          },
          "geo": {
           "bgcolor": "white",
           "lakecolor": "white",
           "landcolor": "#E5ECF6",
           "showlakes": true,
           "showland": true,
           "subunitcolor": "white"
          },
          "hoverlabel": {
           "align": "left"
          },
          "hovermode": "closest",
          "mapbox": {
           "style": "light"
          },
          "paper_bgcolor": "white",
          "plot_bgcolor": "#E5ECF6",
          "polar": {
           "angularaxis": {
            "gridcolor": "white",
            "linecolor": "white",
            "ticks": ""
           },
           "bgcolor": "#E5ECF6",
           "radialaxis": {
            "gridcolor": "white",
            "linecolor": "white",
            "ticks": ""
           }
          },
          "scene": {
           "xaxis": {
            "backgroundcolor": "#E5ECF6",
            "gridcolor": "white",
            "gridwidth": 2,
            "linecolor": "white",
            "showbackground": true,
            "ticks": "",
            "zerolinecolor": "white"
           },
           "yaxis": {
            "backgroundcolor": "#E5ECF6",
            "gridcolor": "white",
            "gridwidth": 2,
            "linecolor": "white",
            "showbackground": true,
            "ticks": "",
            "zerolinecolor": "white"
           },
           "zaxis": {
            "backgroundcolor": "#E5ECF6",
            "gridcolor": "white",
            "gridwidth": 2,
            "linecolor": "white",
            "showbackground": true,
            "ticks": "",
            "zerolinecolor": "white"
           }
          },
          "shapedefaults": {
           "line": {
            "color": "#2a3f5f"
           }
          },
          "ternary": {
           "aaxis": {
            "gridcolor": "white",
            "linecolor": "white",
            "ticks": ""
           },
           "baxis": {
            "gridcolor": "white",
            "linecolor": "white",
            "ticks": ""
           },
           "bgcolor": "#E5ECF6",
           "caxis": {
            "gridcolor": "white",
            "linecolor": "white",
            "ticks": ""
           }
          },
          "title": {
           "x": 0.05
          },
          "xaxis": {
           "automargin": true,
           "gridcolor": "white",
           "linecolor": "white",
           "ticks": "",
           "title": {
            "standoff": 15
           },
           "zerolinecolor": "white",
           "zerolinewidth": 2
          },
          "yaxis": {
           "automargin": true,
           "gridcolor": "white",
           "linecolor": "white",
           "ticks": "",
           "title": {
            "standoff": 15
           },
           "zerolinecolor": "white",
           "zerolinewidth": 2
          }
         }
        },
        "title": {
         "text": "Most Popular Brewery per State",
         "x": 0.5
        },
        "width": 1000,
        "xaxis": {
         "anchor": "y",
         "domain": [
          0,
          1
         ],
         "tickangle": 45,
         "tickmode": "linear",
         "title": {
          "text": "State"
         }
        },
        "yaxis": {
         "anchor": "x",
         "domain": [
          0,
          1
         ],
         "title": {
          "text": "Brewery Count"
         }
        }
       }
      }
     },
     "metadata": {},
     "output_type": "display_data"
    }
   ],
   "source": [
    "us_data, state_avg_ratings = df_funfact_4(beers_df_copy)\n",
    "most_popular_brewery = df_funfact_4_brewery(us_data)\n",
    "fig_funfact4 = plot_funfact_4_brewery(most_popular_brewery)\n",
    "\n",
    "# Displaying the plot\n",
    "fig_funfact4.show()\n",
    "\n",
    "# Saving the plot as html and svg formats\n",
    "save_plot_as_html(fig_funfact4, './website/_layouts/fig_funfact4.html')\n",
    "save_plot_as_svg(fig_funfact4, './website/assets/figures/fig_funfact4.svg')\n"
   ]
  }
 ],
 "metadata": {
  "kernelspec": {
   "display_name": "ADA_H2",
   "language": "python",
   "name": "python3"
  },
  "language_info": {
   "codemirror_mode": {
    "name": "ipython",
    "version": 3
   },
   "file_extension": ".py",
   "mimetype": "text/x-python",
   "name": "python",
   "nbconvert_exporter": "python",
   "pygments_lexer": "ipython3",
   "version": "3.12.7"
  }
 },
 "nbformat": 4,
 "nbformat_minor": 2
}
